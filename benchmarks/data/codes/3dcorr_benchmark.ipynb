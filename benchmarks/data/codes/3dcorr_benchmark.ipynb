{
 "cells": [
  {
   "cell_type": "markdown",
   "metadata": {},
   "source": [
    "# Benchmark code for 3d correlation function\n",
    "\n",
    "This code requires cluster_toolkit."
   ]
  },
  {
   "cell_type": "code",
   "execution_count": 235,
   "metadata": {},
   "outputs": [],
   "source": [
    "import numpy as np\n",
    "import pyccl as ccl\n",
    "import cluster_toolkit\n",
    "#cluster toolkit package is available at http://cluster-toolkit.readthedocs.io/en/latest/source/installation.html\n",
    "import matplotlib\n",
    "import matplotlib.pyplot as plt\n",
    "%matplotlib inline"
   ]
  },
  {
   "cell_type": "code",
   "execution_count": 236,
   "metadata": {},
   "outputs": [],
   "source": [
    "p1 = ccl.Cosmology(Omega_c=0.25, Omega_b=0.05, h=0.7, sigma8=0.80, n_s=0.96, w0=-1.0, wa=0.0, Omega_g=0)\n",
    "p2 = ccl.Cosmology(Omega_c=0.25, Omega_b=0.05, h=0.7, sigma8=0.80, n_s=0.96, w0=-0.9, wa=0.0, Omega_g=0)\n",
    "p3 = ccl.Cosmology(Omega_c=0.25, Omega_b=0.05, h=0.7, sigma8=0.80, n_s=0.96, w0=-0.9, wa=0.1, Omega_g=0)\n",
    "p4 = ccl.Cosmology(Omega_c=0.25, Omega_b=0.05, h=0.7, sigma8=0.80, n_s=0.96, w0=-0.9, wa=0.1, Omega_g=0)\n",
    "p5 = ccl.Cosmology(Omega_c=0.25, Omega_b=0.05, h=0.7, sigma8=0.80, n_s=0.96, w0=-0.9, wa=0.1, Omega_g=0)\n",
    "\n",
    "# define the cosmology model to use\n",
    "cosmo = ccl.Cosmology(p1)"
   ]
  },
  {
   "cell_type": "code",
   "execution_count": 237,
   "metadata": {},
   "outputs": [],
   "source": [
    "k = np.logspace(np.log10(5.e-5), 3., 730000) # Wavenumber\n",
    "h = 0.7"
   ]
  },
  {
   "cell_type": "code",
   "execution_count": 238,
   "metadata": {},
   "outputs": [],
   "source": [
    "# CCL power spectrum\n",
    "pk = []\n",
    "for n in range(6):\n",
    "    pk.append(ccl.nonlin_matter_power(cosmo, k, 1./(n+1)))"
   ]
  },
  {
   "cell_type": "code",
   "execution_count": 239,
   "metadata": {},
   "outputs": [],
   "source": [
    "# calculate CCL xi and benchmark xi for r = 0.1 - 100 with 40 bins\n",
    "nr1 = 40\n",
    "r1 = np.logspace(-1, 2, nr1)\n",
    "\n",
    "xi1 = []\n",
    "for n in range(6):\n",
    "    xi1.append(ccl.correlation_3d(cosmo, 1./(n+1), r1))\n",
    "\n",
    "xi_toolkit1 = []\n",
    "for n in range(6):\n",
    "    xi_toolkit1.append(cluster_toolkit.xi.xi_mm_at_R(h*r1, k/h, pk[n]*h*h*h, exact=True))    \n",
    "        \n",
    "# calculate CCL xi and benchmark xi for r = 50 - 250 with 100 bins to check agreement in teh BAO peak region\n",
    "nr2 = 100\n",
    "r2 = np.logspace(np.log10(50), np.log10(250), nr2)\n",
    "\n",
    "xi2 = []\n",
    "for n in range(6):\n",
    "    xi2.append(ccl.correlation_3d(cosmo, 1./(n+1), r2))\n",
    "\n",
    "xi_toolkit2 = []\n",
    "for n in range(6):\n",
    "    xi_toolkit2.append(cluster_toolkit.xi.xi_mm_at_R(h*r2, k/h, pk[n]*h*h*h, exact=True))"
   ]
  },
  {
   "cell_type": "code",
   "execution_count": 240,
   "metadata": {
    "scrolled": true
   },
   "outputs": [],
   "source": [
    "# write benchmark xi to file\n",
    "f = open('model1_xi.txt','w')\n",
    "\n",
    "f.write('#  [0] r (Mpc; comoving), [1] xi(r,z=0.0), [2] xi(r,z=1.0), [3] xi(r,z=2.0), [4] xi(r,z=3.0), [5] xi(r,z=4.0), [6] xi(r,z=5.0)' + '\\n')\n",
    "\n",
    "for i in range(140):\n",
    "    col = []\n",
    "    s = ''\n",
    "    if i < 40:\n",
    "        col.append(\"{:.18e}\".format(r1[i]).ljust(25))\n",
    "        for n in range(6):\n",
    "            col.append(\"{:.18e}\".format(xi_toolkit1[n][i]).ljust(25))\n",
    "    else:\n",
    "        col.append(\"{:.18e}\".format(r2[i-40]).ljust(25))\n",
    "        for n in range(6):\n",
    "            col.append(\"{:.18e}\".format(xi_toolkit2[n][i-40]).ljust(25))\n",
    "    for i in range(7):\n",
    "        s = s + col[i]        \n",
    "    f.write(s + '\\n')\n",
    "\n",
    "f.close()"
   ]
  },
  {
   "cell_type": "code",
   "execution_count": 241,
   "metadata": {},
   "outputs": [
    {
     "name": "stdout",
     "output_type": "stream",
     "text": [
      "r                        xi(CCL)                   xi(benchmark)            Delta(r^2 xi)       Delta xi / xi_benchmark\n",
      "1.00000e-01              9.63360e+02              9.65569e+02              -2.20935e-02             -2.28814e-03             \n",
      "1.19378e-01              8.09978e+02              8.11265e+02              -1.83414e-02             -1.58644e-03             \n",
      "1.42510e-01              6.78664e+02              6.78494e+02              3.44608e-03              2.50084e-04              \n",
      "1.70125e-01              5.62602e+02              5.63139e+02              -1.55381e-02             -9.53329e-04             \n",
      "2.03092e-01              4.64437e+02              4.64339e+02              4.07474e-03              2.12755e-04              \n",
      "2.42446e-01              3.79676e+02              3.79285e+02              2.29661e-02              1.03013e-03              \n",
      "2.89427e-01              3.06855e+02              3.07006e+02              -1.26417e-02             -4.91566e-04             \n",
      "3.45511e-01              2.45687e+02              2.45805e+02              -1.41088e-02             -4.80814e-04             \n",
      "4.12463e-01              1.94504e+02              1.94415e+02              1.51250e-02              4.57294e-04              \n",
      "4.92388e-01              1.51709e+02              1.51666e+02              1.02893e-02              2.79821e-04              \n",
      "5.87802e-01              1.16524e+02              1.16450e+02              2.58624e-02              6.42790e-04              \n",
      "7.01704e-01              8.79468e+01              8.79330e+01              6.79369e-03              1.56909e-04              \n",
      "8.37678e-01              6.51658e+01              6.51530e+01              8.98563e-03              1.96544e-04              \n",
      "1.00000e+00              4.73074e+01              4.73150e+01              -7.56038e-03             -1.59788e-04             \n",
      "1.19378e+00              3.36453e+01              3.36414e+01              5.53031e-03              1.15353e-04              \n",
      "1.42510e+00              2.34360e+01              2.34335e+01              5.11571e-03              1.07492e-04              \n",
      "1.70125e+00              1.60209e+01              1.60198e+01              3.05444e-03              6.58772e-05              \n",
      "2.03092e+00              1.07976e+01              1.07967e+01              3.81324e-03              8.56290e-05              \n",
      "2.42446e+00              7.23196e+00              7.23301e+00              -6.17875e-03             -1.45329e-04             \n",
      "2.89427e+00              4.86751e+00              4.86748e+00              3.29616e-04              8.08401e-06              \n",
      "3.45511e+00              3.33245e+00              3.33255e+00              -1.21141e-03             -3.04504e-05             \n",
      "4.12463e+00              2.34199e+00              2.34170e+00              4.94790e-03              1.24199e-04              \n",
      "4.92388e+00              1.69368e+00              1.69369e+00              -3.02663e-04             -7.37070e-06             \n",
      "5.87802e+00              1.25506e+00              1.25523e+00              -5.85624e-03             -1.35031e-04             \n",
      "7.01704e+00              9.45798e-01              9.45705e-01              4.58934e-03              9.85568e-05              \n",
      "8.37678e+00              7.19057e-01              7.18977e-01              5.57042e-03              1.10413e-04              \n",
      "1.00000e+01              5.47511e-01              5.47531e-01              -2.05861e-03             -3.75981e-05             \n",
      "1.19378e+01              4.14921e-01              4.14896e-01              3.59766e-03              6.08465e-05              \n",
      "1.42510e+01              3.11420e-01              3.11427e-01              -1.27863e-03             -2.02161e-05             \n",
      "1.70125e+01              2.30590e-01              2.30603e-01              -3.84685e-03             -5.76370e-05             \n",
      "2.03092e+01              1.67918e-01              1.67932e-01              -5.53923e-03             -7.99710e-05             \n",
      "2.42446e+01              1.19923e-01              1.19922e-01              6.30390e-04              8.94291e-06              \n",
      "2.89427e+01              8.37487e-02              8.37452e-02              2.87202e-03              4.09403e-05              \n",
      "3.45511e+01              5.70031e-02              5.69987e-02              5.17508e-03              7.60551e-05              \n",
      "4.12463e+01              3.76621e-02              3.76617e-02              6.43333e-04              1.00408e-05              \n",
      "4.92388e+01              2.40305e-02              2.40330e-02              -6.20485e-03             -1.06490e-04             \n",
      "5.87802e+01              1.47030e-02              1.47044e-02              -4.87113e-03             -9.58784e-05             \n",
      "7.01704e+01              8.53484e-03              8.53490e-03              -2.99497e-04             -7.12667e-06             \n",
      "8.37678e+01              4.62129e-03              4.62079e-03              3.44601e-03              1.06279e-04              \n",
      "1.00000e+02              2.24474e-03              2.24476e-03              -2.58222e-04             -1.15033e-05             \n",
      "5.00000e+01              2.30714e-02              2.30715e-02              -4.95481e-04             -8.59035e-06             \n",
      "5.08195e+01              2.20873e-02              2.20859e-02              3.48736e-03              6.11393e-05              \n",
      "5.16524e+01              2.11388e-02              2.11365e-02              6.17595e-03              1.09519e-04              \n",
      "5.24990e+01              2.02226e-02              2.02234e-02              -2.08616e-03             -3.74276e-05             \n",
      "5.33594e+01              1.93393e-02              1.93388e-02              1.56422e-03              2.84083e-05              \n",
      "5.42340e+01              1.84875e-02              1.84889e-02              -4.11267e-03             -7.56259e-05             \n",
      "5.51229e+01              1.76659e-02              1.76751e-02              -2.79596e-02             -5.20602e-04             \n",
      "5.60263e+01              1.68748e-02              1.68739e-02              2.81965e-03              5.32347e-05              \n",
      "5.69446e+01              1.61115e-02              1.61130e-02              -4.90159e-03             -9.38115e-05             \n",
      "5.78779e+01              1.53775e-02              1.53777e-02              -6.68411e-04             -1.29755e-05             \n",
      "5.88265e+01              1.46692e-02              1.46680e-02              4.32303e-03              8.51671e-05              \n",
      "5.97907e+01              1.39889e-02              1.39883e-02              2.08176e-03              4.16294e-05              \n",
      "6.07706e+01              1.33326e-02              1.33340e-02              -5.41991e-03             -1.10063e-04             \n",
      "6.17666e+01              1.27024e-02              1.27024e-02              1.88832e-04              3.89658e-06              \n",
      "6.27790e+01              1.20952e-02              1.20965e-02              -5.12160e-03             -1.07428e-04             \n",
      "6.38079e+01              1.15122e-02              1.15106e-02              6.33925e-03              1.35267e-04              \n",
      "6.48537e+01              1.09513e-02              1.09500e-02              5.55301e-03              1.20572e-04              \n",
      "6.59167e+01              1.04127e-02              1.04131e-02              -1.66536e-03             -3.68076e-05             \n",
      "6.69970e+01              9.89568e-03              9.89471e-03              4.38020e-03              9.86234e-05              \n",
      "6.80951e+01              9.39896e-03              9.40018e-03              -5.62301e-03             -1.29003e-04             \n",
      "6.92112e+01              8.92305e-03              8.92215e-03              4.30498e-03              1.00728e-04              \n",
      "7.03455e+01              8.46567e-03              8.46633e-03              -3.30295e-03             -7.88378e-05             \n",
      "7.14985e+01              8.02806e-03              8.02687e-03              6.09290e-03              1.48486e-04              \n",
      "7.26703e+01              7.60746e-03              7.60806e-03              -3.12457e-03             -7.77682e-05             \n",
      "7.38614e+01              7.20542e-03              7.20414e-03              6.99124e-03              1.77884e-04              \n",
      "7.50719e+01              6.81928e-03              6.81994e-03              -3.69944e-03             -9.62500e-05             \n",
      "7.63023e+01              6.45038e-03              6.44904e-03              7.76755e-03              2.06877e-04              \n",
      "7.75529e+01              6.09662e-03              6.09609e-03              3.15962e-03              8.61760e-05              \n",
      "7.88240e+01              5.75870e-03              5.75874e-03              -2.05081e-04             -5.73167e-06             \n",
      "8.01159e+01              5.43536e-03              5.43549e-03              -8.48577e-04             -2.43229e-05             \n",
      "8.14290e+01              5.12642e-03              5.12685e-03              -2.91024e-03             -8.56089e-05             \n",
      "8.27636e+01              4.83145e-03              4.83106e-03              2.71287e-03              8.19801e-05              \n",
      "8.41201e+01              4.54946e-03              4.54925e-03              1.44675e-03              4.49421e-05              \n",
      "8.54988e+01              4.28069e-03              4.27985e-03              6.17855e-03              1.97487e-04              \n",
      "8.69001e+01              4.02360e-03              4.02396e-03              -2.69845e-03             -8.88014e-05             \n",
      "8.83244e+01              3.77893e-03              3.77880e-03              9.95657e-04              3.37749e-05              \n",
      "8.97720e+01              3.54490e-03              3.54537e-03              -3.84991e-03             -1.34743e-04             \n",
      "9.12433e+01              3.32236e-03              3.32144e-03              7.60467e-03              2.75012e-04              \n",
      "9.27388e+01              3.10958e-03              3.11000e-03              -3.57765e-03             -1.33757e-04             \n",
      "9.42588e+01              2.90718e-03              2.90628e-03              7.97521e-03              3.08859e-04              \n",
      "9.58037e+01              2.71367e-03              2.71381e-03              -1.20975e-03             -4.85681e-05             \n",
      "9.73739e+01              2.52924e-03              2.52842e-03              7.77385e-03              3.24266e-04              \n",
      "9.89698e+01              2.35289e-03              2.35275e-03              1.34842e-03              5.85117e-05              \n",
      "1.00592e+02              2.18434e-03              2.18376e-03              5.91674e-03              2.67764e-04              \n",
      "1.02241e+02              2.02318e-03              2.02249e-03              7.16687e-03              3.38997e-04              \n",
      "1.03916e+02              1.86877e-03              1.86890e-03              -1.38955e-03             -6.88526e-05             \n",
      "1.05619e+02              1.72118e-03              1.72119e-03              -8.90495e-05             -4.63784e-06             \n",
      "1.07351e+02              1.57956e-03              1.57892e-03              7.33291e-03              4.03003e-04              \n",
      "1.09110e+02              1.44440e-03              1.44371e-03              8.19432e-03              4.76763e-04              \n",
      "1.10898e+02              1.31509e-03              1.31454e-03              6.75756e-03              4.17992e-04              \n",
      "1.12716e+02              1.19278e-03              1.19208e-03              8.84558e-03              5.84050e-04              \n",
      "1.14563e+02              1.07772e-03              1.07768e-03              5.88447e-04              4.16032e-05              \n",
      "1.16441e+02              9.72304e-04              9.71661e-04              8.71545e-03              6.61551e-04              \n",
      "1.18349e+02              8.78562e-04              8.78808e-04              -3.45553e-03             -2.80729e-04             \n",
      "1.20289e+02              8.00908e-04              8.00354e-04              8.02677e-03              6.93116e-04              \n",
      "1.22261e+02              7.44240e-04              7.44357e-04              -1.75464e-03             -1.57700e-04             \n",
      "1.24264e+02              7.15447e-04              7.15512e-04              -1.00816e-03             -9.12470e-05             \n",
      "1.26301e+02              7.21533e-04              7.20930e-04              9.61753e-03              8.36288e-04              \n",
      "1.28371e+02              7.68748e-04              7.68733e-04              2.47290e-04              1.95207e-05              \n",
      "1.30475e+02              8.60160e-04              8.59555e-04              1.03025e-02              7.04069e-04              \n",
      "1.32614e+02              9.92903e-04              9.92281e-04              1.09298e-02              6.26326e-04              \n",
      "1.34787e+02              1.15714e-03              1.15667e-03              8.55352e-03              4.07041e-04              \n",
      "1.36996e+02              1.33487e-03              1.33431e-03              1.05528e-02              4.21402e-04              \n",
      "1.39242e+02              1.50350e-03              1.50308e-03              8.11987e-03              2.78630e-04              \n",
      "1.41524e+02              1.63834e-03              1.63813e-03              4.15796e-03              1.26728e-04              \n",
      "1.43843e+02              1.71950e-03              1.71937e-03              2.56597e-03              7.21278e-05              \n",
      "1.46201e+02              1.73413e-03              1.73357e-03              1.21281e-02              3.27305e-04              \n",
      "1.48597e+02              1.68054e-03              1.68004e-03              1.09718e-02              2.95758e-04              \n",
      "1.51033e+02              1.56555e-03              1.56561e-03              -1.29046e-03             -3.61343e-05             \n",
      "1.53508e+02              1.40351e-03              1.40385e-03              -7.89375e-03             -2.38617e-04             \n",
      "1.56024e+02              1.21107e-03              1.21145e-03              -9.08183e-03             -3.07955e-04             \n",
      "1.58581e+02              1.00508e-03              1.00489e-03              4.93189e-03              1.95161e-04              \n",
      "1.61180e+02              7.99648e-04              7.99602e-04              1.19322e-03              5.74413e-05              \n",
      "1.63822e+02              6.05440e-04              6.05569e-04              -3.46075e-03             -2.12942e-04             \n",
      "1.66507e+02              4.29589e-04              4.29448e-04              3.90364e-03              3.27865e-04              \n",
      "1.69236e+02              2.75468e-04              2.75501e-04              -9.32031e-04             -1.18120e-04             \n",
      "1.72010e+02              1.44232e-04              1.44147e-04              2.51496e-03              5.89683e-04              \n",
      "1.74829e+02              3.44855e-05              3.44411e-05              1.35704e-03              1.28910e-03              \n",
      "1.77694e+02              -5.53246e-05             -5.54462e-05             3.83922e-03              -2.19292e-03             \n",
      "1.80607e+02              -1.27903e-04             -1.27893e-04             -3.40989e-04             8.17384e-05              \n",
      "1.83567e+02              -1.85019e-04             -1.85099e-04             2.70687e-03              -4.33984e-04             \n",
      "1.86575e+02              -2.29173e-04             -2.29279e-04             3.69541e-03              -4.63008e-04             \n",
      "1.89633e+02              -2.61940e-04             -2.62432e-04             1.76950e-02              -1.87501e-03             \n",
      "1.92741e+02              -2.85458e-04             -2.85830e-04             1.38156e-02              -1.30110e-03             \n",
      "1.95900e+02              -3.01271e-04             -3.01615e-04             1.31991e-02              -1.14031e-03             \n",
      "1.99111e+02              -3.11188e-04             -3.11407e-04             8.69811e-03              -7.04539e-04             \n",
      "2.02375e+02              -3.16638e-04             -3.17033e-04             1.61782e-02              -1.24599e-03             \n",
      "2.05692e+02              -3.18583e-04             -3.19008e-04             1.79697e-02              -1.33140e-03             \n",
      "2.09063e+02              -3.17800e-04             -3.17951e-04             6.56426e-03              -4.72360e-04             \n",
      "2.12489e+02              -3.14495e-04             -3.14716e-04             9.95572e-03              -7.00616e-04             \n",
      "2.15972e+02              -3.09543e-04             -3.09692e-04             6.98324e-03              -4.83428e-04             \n",
      "2.19512e+02              -3.03169e-04             -3.03595e-04             2.05238e-02              -1.40297e-03             \n",
      "2.23109e+02              -2.96065e-04             -2.96406e-04             1.70193e-02              -1.15350e-03             \n",
      "2.26766e+02              -2.87797e-04             -2.87990e-04             9.89692e-03              -6.68292e-04             \n",
      "2.30483e+02              -2.78691e-04             -2.79043e-04             1.86749e-02              -1.25983e-03             \n",
      "2.34260e+02              -2.68701e-04             -2.68985e-04             1.55968e-02              -1.05660e-03             \n",
      "2.38100e+02              -2.58534e-04             -2.58777e-04             1.37549e-02              -9.37589e-04             \n",
      "2.42002e+02              -2.48272e-04             -2.48502e-04             1.34548e-02              -9.24504e-04             \n",
      "2.45969e+02              -2.38138e-04             -2.38526e-04             2.34277e-02              -1.62343e-03             \n",
      "2.50000e+02              -2.28280e-04             -2.28510e-04             1.43943e-02              -1.00787e-03             \n"
     ]
    }
   ],
   "source": [
    "# print some values\n",
    "n = 0 # redshift    \n",
    "print \"r                        xi(CCL)                   xi(benchmark)            Delta(r^2 xi)       Delta xi / xi_benchmark\"\n",
    "for i in range(140):\n",
    "    col = []\n",
    "    s = ''\n",
    "    if i < 40:\n",
    "        col.append(\"{:.5e}\".format(r1[i]).ljust(25))\n",
    "        col.append(\"{:.5e}\".format(xi1[n][i]).ljust(25))\n",
    "        col.append(\"{:.5e}\".format(xi_toolkit1[n][i]).ljust(25))\n",
    "        err = r1[i]*r1[i]*(xi1[n][i]-xi_toolkit1[n][i])\n",
    "        col.append(\"{:.5e}\".format(err).ljust(25))\n",
    "        rel_diff = (xi1[n][i]-xi_toolkit1[n][i])/xi_toolkit1[n][i]\n",
    "        col.append(\"{:.5e}\".format(rel_diff).ljust(25))\n",
    "    #s = col[0] + col[1] + col[2] + col[3] + col[4]\n",
    "    else:\n",
    "        col.append(\"{:.5e}\".format(r2[i-40]).ljust(25))\n",
    "        col.append(\"{:.5e}\".format(xi2[n][i-40]).ljust(25))\n",
    "        col.append(\"{:.5e}\".format(xi_toolkit2[n][i-40]).ljust(25))\n",
    "        err = r2[i-40]*r2[i-40]*(xi2[n][i-40]-xi_toolkit2[n][i-40])\n",
    "        col.append(\"{:.5e}\".format(err).ljust(25))\n",
    "        rel_diff = (xi2[n][i-40]-xi_toolkit2[n][i-40])/xi_toolkit2[n][i-40]\n",
    "        col.append(\"{:.5e}\".format(rel_diff).ljust(25)) \n",
    "    s = col[0] + col[1] + col[2] + col[3] + col[4]\n",
    "        \n",
    "    print(s)"
   ]
  },
  {
   "cell_type": "code",
   "execution_count": 242,
   "metadata": {},
   "outputs": [
    {
     "data": {
      "image/png": "[encoded data removed]",
      "text/plain": [
       "<matplotlib.figure.Figure at 0x7f4245b87ed0>"
      ]
     },
     "metadata": {},
     "output_type": "display_data"
    },
    {
     "name": "stdout",
     "output_type": "stream",
     "text": [
      "frac diff for r = 0.1-100:  0.0022881353999696374\n",
      "frac diff for r = 50-250:  0.002192923048821349\n"
     ]
    }
   ],
   "source": [
    "# Plot relative difference\n",
    "frac_diff1 = []\n",
    "frac_diff2 = []\n",
    "abs_diff1 = []    \n",
    "abs_diff2 = []\n",
    "\n",
    "for i in range(nr1):\n",
    "    frac_diff1.append(np.abs(xi1[n][i]/xi_toolkit1[n][i] - 1.))\n",
    "    abs_diff1.append(np.abs(r1[i]*r1[i]*(xi1[n][i]-xi_toolkit1[n][i])))\n",
    "    #print r1[i], xi_toolkit1[n][i], xi1[n][i], r1[i]*r1[i]*(xi1[n][i]-xi_toolkit1[n][i])\n",
    "    \n",
    "for i in range(nr2):\n",
    "    frac_diff2.append(np.abs(1-xi2[n][i]/xi_toolkit2[n][i]))\n",
    "    abs_diff2.append(np.abs(r2[i]*r2[i]*(xi2[n][i]-xi_toolkit2[n][i])))\n",
    "\n",
    "# esthetic definitions for the plots\n",
    "matplotlib.rcParams['mathtext.fontset'] = 'stix'\n",
    "matplotlib.rcParams['font.family'] = 'STIXGeneral'\n",
    "matplotlib.rcParams['font.size'] = 14\n",
    "\n",
    "plt.plot(r1, frac_diff1, 'b-')\n",
    "plt.plot(r2, frac_diff2, 'r-')\n",
    "plt.xscale('log')\n",
    "plt.yscale('log')\n",
    "plt.xlabel(r'$r$ (Mpc)')\n",
    "plt.ylabel(r'$\\Delta \\xi(r) / \\xi(r)$')\n",
    "plt.grid(which='major')\n",
    "plt.title('Relative difference') \n",
    "plt.savefig('benchmark_rel.pdf',bbox_inches = 'tight')\n",
    "plt.show()\n",
    "#print frac_diff1\n",
    "print \"frac diff for r = 0.1-100: \", np.amax(frac_diff1)\n",
    "print \"frac diff for r = 50-250: \", np.amax(frac_diff2)"
   ]
  },
  {
   "cell_type": "code",
   "execution_count": 243,
   "metadata": {
    "scrolled": false
   },
   "outputs": [
    {
     "data": {
      "image/png": "[encoded data removed]",
      "text/plain": [
       "<matplotlib.figure.Figure at 0x7f4245cd9dd0>"
      ]
     },
     "metadata": {},
     "output_type": "display_data"
    },
    {
     "name": "stdout",
     "output_type": "stream",
     "text": [
      "max diff for r = 0.1-100:  0.025862405527988578\n",
      "max diff for r = 50-250:  0.027959564832195707\n",
      "average Delta(r^2 xi) for r=140-150 Mpc: 0.007588737566025572\n"
     ]
    }
   ],
   "source": [
    "# plot absolute difference in r^2 xi(r)\n",
    "plt.plot(r1, abs_diff1, 'b-')\n",
    "plt.plot(r2, abs_diff2, 'r-')\n",
    "plt.xscale('log')\n",
    "plt.yscale('log')\n",
    "plt.xlabel(r'$r$ (Mpc)')\n",
    "plt.ylabel(r'$\\Delta (r^2 \\xi(r)) $')\n",
    "plt.grid(which='minor')\n",
    "plt.title('Absolute difference') \n",
    "plt.grid(which='both')\n",
    "plt.savefig('benchmark_abs.pdf',bbox_inches = 'tight')\n",
    "plt.show()\n",
    "#print abs_diff\n",
    "print \"max diff for r = 0.1-100: \", np.amax(abs_diff1)\n",
    "print \"max diff for r = 50-250: \", np.amax(abs_diff2)\n",
    "\n",
    "\n",
    "# find and print the average of Delta(r^2 xi) in the BAO peak region\n",
    "max_value = 0\n",
    "max_value_index = 0\n",
    "avg_value = 0\n",
    "for i in range(63,68):\n",
    "    #print i, r2[i], abs_diff2[i]\n",
    "    avg_value = avg_value + abs_diff2[i]\n",
    "avg_value = avg_value / 5.\n",
    "print \"average Delta(r^2 xi) for r=140-150 Mpc:\", avg_value    "
   ]
  },
  {
   "cell_type": "code",
   "execution_count": 244,
   "metadata": {
    "scrolled": true
   },
   "outputs": [],
   "source": [
    "for i in range(nr1):\n",
    "    col = []\n",
    "    s = ''\n",
    "    col.append(\"{:.18e}\".format(r1[i]).ljust(25))\n",
    "    col.append(\"{:.18e}\".format(frac_diff1[i]).ljust(25))\n",
    "    col.append(\"{:.18e}\".format(abs_diff1[i]).ljust(25))\n",
    "    s = col[0] + col[1] + col[2]  \n",
    "    #print(s)"
   ]
  },
  {
   "cell_type": "code",
   "execution_count": 245,
   "metadata": {},
   "outputs": [],
   "source": [
    "for i in range(nr2):\n",
    "    col = []\n",
    "    s = ''\n",
    "    col.append(\"{:.18e}\".format(r2[i]).ljust(25))\n",
    "    col.append(\"{:.18e}\".format(frac_diff2[i]).ljust(25))\n",
    "    col.append(\"{:.18e}\".format(abs_diff2[i]).ljust(25))\n",
    "    s = col[0] + col[1] + col[2]  \n",
    "    #print(s)"
   ]
  }
 ],
 "metadata": {
  "kernelspec": {
   "display_name": "Python 3",
   "language": "python",
   "name": "python3"
  },
  "language_info": {
   "codemirror_mode": {
    "name": "ipython",
    "version": 3
   },
   "file_extension": ".py",
   "mimetype": "text/x-python",
   "name": "python",
   "nbconvert_exporter": "python",
   "pygments_lexer": "ipython3",
   "version": "3.6.6"
  }
 },
 "nbformat": 4,
 "nbformat_minor": 2
}
