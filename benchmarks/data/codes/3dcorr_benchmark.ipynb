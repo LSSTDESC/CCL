{
 "cells": [
  {
   "cell_type": "markdown",
   "metadata": {},
   "source": [
    "# Benchmark code for 3d correlation function\n",
    "\n",
    "This code requires cluster_toolkit."
   ]
  },
  {
   "cell_type": "code",
   "execution_count": 1,
   "metadata": {},
   "outputs": [],
   "source": [
    "import numpy as np\n",
    "import pyccl as ccl\n",
    "import cluster_toolkit\n",
    "#cluster toolkit package is available at http://cluster-toolkit.readthedocs.io/en/latest/source/installation.html\n",
    "import matplotlib\n",
    "import matplotlib.pyplot as plt\n",
    "%matplotlib inline"
   ]
  },
  {
   "cell_type": "code",
   "execution_count": 46,
   "metadata": {},
   "outputs": [],
   "source": [
    "bench_ind = 3\n",
    "\n",
    "if bench_ind == 1:\n",
    "    cosmo = ccl.Cosmology(\n",
    "        Omega_c=0.25, Omega_b=0.05, h=0.7, sigma8=0.8, \n",
    "        n_s=0.96, w0=-1.0, wa=0.0, Omega_g=0,\n",
    "        transfer_function='bbks')\n",
    "elif bench_ind == 2:\n",
    "    cosmo = ccl.Cosmology(\n",
    "        Omega_c=0.25, Omega_b=0.05, h=0.7, sigma8=0.8, \n",
    "        n_s=0.96, w0=-0.9, wa=0.0, Omega_g=0,\n",
    "        transfer_function='bbks')        \n",
    "elif bench_ind == 3:\n",
    "    cosmo = ccl.Cosmology(\n",
    "        Omega_c=0.25, Omega_b=0.05, h=0.7, sigma8=0.8, \n",
    "        n_s=0.96, w0=-0.9, wa=0.1, Omega_g=0,\n",
    "        transfer_function='bbks')"
   ]
  },
  {
   "cell_type": "code",
   "execution_count": 47,
   "metadata": {},
   "outputs": [],
   "source": [
    "k = np.logspace(np.log10(5.e-5), 3., 730000) # Wavenumber\n",
    "h = 0.7"
   ]
  },
  {
   "cell_type": "code",
   "execution_count": 48,
   "metadata": {},
   "outputs": [],
   "source": [
    "# CCL power spectrum\n",
    "pk = []\n",
    "for n in range(6):\n",
    "    pk.append(ccl.nonlin_matter_power(cosmo, k, 1./(n+1)))"
   ]
  },
  {
   "cell_type": "code",
   "execution_count": 49,
   "metadata": {},
   "outputs": [],
   "source": [
    "# calculate CCL xi and benchmark xi for r = 0.1 - 100 with 40 bins\n",
    "nr1 = 40\n",
    "r1 = np.logspace(-1, 2, nr1)\n",
    "\n",
    "xi1 = []\n",
    "for n in range(6):\n",
    "    xi1.append(ccl.correlation_3d(cosmo, 1./(n+1), r1))\n",
    "\n",
    "xi_toolkit1 = []\n",
    "for n in range(6):\n",
    "    xi_toolkit1.append(cluster_toolkit.xi.xi_mm_at_r(h*r1, k/h, pk[n]*h*h*h, exact=True))    \n",
    "        \n",
    "# calculate CCL xi and benchmark xi for r = 50 - 250 with 100 bins to check agreement in teh BAO peak region\n",
    "nr2 = 100\n",
    "r2 = np.logspace(np.log10(50), np.log10(250), nr2)\n",
    "\n",
    "xi2 = []\n",
    "for n in range(6):\n",
    "    xi2.append(ccl.correlation_3d(cosmo, 1./(n+1), r2))\n",
    "\n",
    "xi_toolkit2 = []\n",
    "for n in range(6):\n",
    "    xi_toolkit2.append(cluster_toolkit.xi.xi_mm_at_r(h*r2, k/h, pk[n]*h*h*h, exact=True))"
   ]
  },
  {
   "cell_type": "code",
   "execution_count": 50,
   "metadata": {
    "scrolled": true
   },
   "outputs": [],
   "source": [
    "# write benchmark xi to file\n",
    "with open('model%d_xi.txt' % bench_ind,'w') as f:\n",
    "\n",
    "    f.write('#  [0] r (Mpc; comoving), [1] xi(r,z=0.0), [2] xi(r,z=1.0), [3] xi(r,z=2.0), [4] xi(r,z=3.0), [5] xi(r,z=4.0), [6] xi(r,z=5.0)' + '\\n')\n",
    "\n",
    "    for i in range(140):\n",
    "        col = []\n",
    "        s = ''\n",
    "        if i < 40:\n",
    "            col.append(\"{:.18e}\".format(r1[i]).ljust(25))\n",
    "            for n in range(6):\n",
    "                col.append(\"{:.18e}\".format(xi_toolkit1[n][i]).ljust(25))\n",
    "        else:\n",
    "            col.append(\"{:.18e}\".format(r2[i-40]).ljust(25))\n",
    "            for n in range(6):\n",
    "                col.append(\"{:.18e}\".format(xi_toolkit2[n][i-40]).ljust(25))\n",
    "        s = ' '.join(col)\n",
    "        f.write(s + '\\n')"
   ]
  },
  {
   "cell_type": "code",
   "execution_count": 31,
   "metadata": {},
   "outputs": [
    {
     "name": "stdout",
     "output_type": "stream",
     "text": [
      "r                        xi(CCL)                   xi(benchmark)            Delta(r^2 xi)       Delta xi / xi_benchmark\n",
      "1.00000e-01              9.13885e+02              9.16199e+02              -2.31471e-02             -2.52643e-03             \n",
      "1.19378e-01              7.68389e+02              7.69716e+02              -1.89134e-02             -1.72422e-03             \n",
      "1.42510e-01              6.44119e+02              6.43962e+02              3.18136e-03              2.43254e-04              \n",
      "1.70125e-01              5.34180e+02              5.34738e+02              -1.61577e-02             -1.04400e-03             \n",
      "2.03092e-01              4.41434e+02              4.41346e+02              3.65583e-03              2.00827e-04              \n",
      "2.42446e-01              3.61355e+02              3.60953e+02              2.35976e-02              1.11221e-03              \n",
      "2.89427e-01              2.92533e+02              2.92692e+02              -1.33039e-02             -5.42614e-04             \n",
      "3.45511e-01              2.34771e+02              2.34896e+02              -1.50246e-02             -5.35800e-04             \n",
      "4.12463e-01              1.86435e+02              1.86349e+02              1.47169e-02              4.64216e-04              \n",
      "4.92388e-01              1.45962e+02              1.45925e+02              9.05724e-03              2.56007e-04              \n",
      "5.87802e-01              1.12633e+02              1.12560e+02              2.51080e-02              6.45606e-04              \n",
      "7.01704e-01              8.54888e+01              8.54752e+01              6.72653e-03              1.59825e-04              \n",
      "8.37678e-01              6.37750e+01              6.37642e+01              7.56558e-03              1.69087e-04              \n",
      "1.00000e+00              4.66669e+01              4.66823e+01              -1.53626e-02             -3.29088e-04             \n",
      "1.19378e+00              3.34944e+01              3.35053e+01              -1.55918e-02             -3.26540e-04             \n",
      "1.42510e+00              2.35885e+01              2.35906e+01              -4.28709e-03             -8.94810e-05             \n",
      "1.70125e+00              1.63185e+01              1.63184e+01              2.01773e-04              4.27217e-06              \n",
      "2.03092e+00              1.11338e+01              1.11329e+01              3.73905e-03              8.14267e-05              \n",
      "2.42446e+00              7.54132e+00              7.54487e+00              -2.08882e-02             -4.70996e-04             \n",
      "2.89427e+00              5.12649e+00              5.12499e+00              1.25711e-02              2.92821e-04              \n",
      "3.45511e+00              3.52741e+00              3.52908e+00              -1.99483e-02             -4.73502e-04             \n",
      "4.12463e+00              2.48550e+00              2.48401e+00              2.54811e-02              6.02970e-04              \n",
      "4.92388e+00              1.79456e+00              1.79423e+00              7.81466e-03              1.79645e-04              \n",
      "5.87802e+00              1.32690e+00              1.32649e+00              1.43232e-02              3.12518e-04              \n",
      "7.01704e+00              9.97268e-01              9.97372e-01              -5.15032e-03             -1.04874e-04             \n",
      "8.37678e+00              7.57602e-01              7.57521e-01              5.65924e-03              1.06466e-04              \n",
      "1.00000e+01              5.76894e-01              5.76763e-01              1.31717e-02              2.28372e-04              \n",
      "1.19378e+01              4.36847e-01              4.36969e-01              -1.73464e-02             -2.78556e-04             \n",
      "1.42510e+01              3.27605e-01              3.27644e-01              -7.72376e-03             -1.16074e-04             \n",
      "1.70125e+01              2.41917e-01              2.41923e-01              -1.59306e-03             -2.27518e-05             \n",
      "2.03092e+01              1.75213e-01              1.75183e-01              1.22660e-02              1.69757e-04              \n",
      "2.42446e+01              1.23922e-01              1.23929e-01              -4.27461e-03             -5.86803e-05             \n",
      "2.89427e+01              8.53563e-02              8.53289e-02              2.29466e-02              3.21030e-04              \n",
      "3.45511e+01              5.69251e-02              5.69318e-02              -8.02919e-03             -1.18139e-04             \n",
      "4.12463e+01              3.66221e-02              3.66250e-02              -4.93160e-03             -7.91483e-05             \n",
      "4.92388e+01              2.25658e-02              2.25750e-02              -2.21267e-02             -4.04273e-04             \n",
      "5.87802e+01              1.32290e-02              1.32243e-02              1.63932e-02              3.58782e-04              \n",
      "7.01704e+01              7.28325e-03              7.28097e-03              1.12484e-02              3.13759e-04              \n",
      "8.37678e+01              3.70677e-03              3.70348e-03              2.30823e-02              8.88210e-04              \n",
      "1.00000e+02              1.68299e-03              1.68555e-03              -2.55455e-02             -1.51556e-03             \n",
      "5.00000e+01              2.15880e-02              2.15979e-02              -2.48889e-02             -4.60949e-04             \n",
      "5.08195e+01              2.06085e-02              2.05990e-02              2.45351e-02              4.61192e-04              \n",
      "5.16524e+01              1.96330e-02              1.96396e-02              -1.75770e-02             -3.35452e-04             \n",
      "5.24990e+01              1.87178e-02              1.87197e-02              -5.16084e-03             -1.00028e-04             \n",
      "5.33594e+01              1.78327e-02              1.78309e-02              5.22497e-03              1.02918e-04              \n",
      "5.42340e+01              1.69712e-02              1.69797e-02              -2.50872e-02             -5.02319e-04             \n",
      "5.51229e+01              1.61626e-02              1.61590e-02              1.11543e-02              2.27177e-04              \n",
      "5.60263e+01              1.53661e-02              1.53693e-02              -1.02233e-02             -2.11911e-04             \n",
      "5.69446e+01              1.46158e-02              1.46146e-02              4.06669e-03              8.58124e-05              \n",
      "5.78779e+01              1.38817e-02              1.38876e-02              -1.95608e-02             -4.20470e-04             \n",
      "5.88265e+01              1.31856e-02              1.31882e-02              -9.03699e-03             -1.98013e-04             \n",
      "5.97907e+01              1.25232e-02              1.25213e-02              6.84458e-03              1.52909e-04              \n",
      "6.07706e+01              1.18812e-02              1.18818e-02              -2.23642e-03             -5.09665e-05             \n",
      "6.17666e+01              1.12640e-02              1.12666e-02              -9.97464e-03             -2.32057e-04             \n",
      "6.27790e+01              1.06726e-02              1.06792e-02              -2.62325e-02             -6.23263e-04             \n",
      "6.38079e+01              1.01164e-02              1.01132e-02              1.28125e-02              3.11167e-04              \n",
      "6.48537e+01              9.57219e-03              9.57422e-03              -8.55573e-03             -2.12463e-04             \n",
      "6.59167e+01              9.06216e-03              9.06043e-03              7.48027e-03              1.90011e-04              \n",
      "6.69970e+01              8.56761e-03              8.56611e-03              6.74262e-03              1.75361e-04              \n",
      "6.80951e+01              8.09103e-03              8.09702e-03              -2.77823e-02             -7.39966e-04             \n",
      "6.92112e+01              7.64777e-03              7.64514e-03              1.25833e-02              3.43604e-04              \n",
      "7.03455e+01              7.21519e-03              7.21665e-03              -7.22947e-03             -2.02441e-04             \n",
      "7.14985e+01              6.80662e-03              6.80522e-03              7.12285e-03              2.04747e-04              \n",
      "7.26703e+01              6.41456e-03              6.41552e-03              -5.03768e-03             -1.48691e-04             \n",
      "7.38614e+01              6.04059e-03              6.04129e-03              -3.78703e-03             -1.14904e-04             \n",
      "7.50719e+01              5.69086e-03              5.68768e-03              1.78848e-02              5.57947e-04              \n",
      "7.63023e+01              5.35018e-03              5.34771e-03              1.43327e-02              4.60345e-04              \n",
      "7.75529e+01              5.02906e-03              5.02632e-03              1.64470e-02              5.44053e-04              \n",
      "7.88240e+01              4.72220e-03              4.72088e-03              8.22836e-03              2.80526e-04              \n",
      "8.01159e+01              4.43004e-03              4.42970e-03              2.16777e-03              7.62433e-05              \n",
      "8.14290e+01              4.15318e-03              4.15331e-03              -8.95675e-04             -3.25235e-05             \n",
      "8.27636e+01              3.89092e-03              3.88978e-03              7.78257e-03              2.92092e-04              \n",
      "8.41201e+01              3.64323e-03              3.64033e-03              2.05747e-02              7.98720e-04              \n",
      "8.54988e+01              3.40072e-03              3.40342e-03              -1.97344e-02             -7.93213e-04             \n",
      "8.69001e+01              3.17681e-03              3.18020e-03              -2.55957e-02             -1.06579e-03             \n",
      "8.83244e+01              2.96736e-03              2.96766e-03              -2.39090e-03             -1.03273e-04             \n",
      "8.97720e+01              2.76462e-03              2.76690e-03              -1.83463e-02             -8.22760e-04             \n",
      "9.12433e+01              2.57767e-03              2.57551e-03              1.79882e-02              8.38923e-04              \n",
      "9.27388e+01              2.39806e-03              2.39680e-03              1.08689e-02              5.27270e-04              \n",
      "9.42588e+01              2.22672e-03              2.22570e-03              9.09621e-03              4.59992e-04              \n",
      "9.58037e+01              2.06431e-03              2.06618e-03              -1.71361e-02             -9.03605e-04             \n",
      "9.73739e+01              1.91207e-03              1.91391e-03              -1.74184e-02             -9.59851e-04             \n",
      "9.89698e+01              1.76949e-03              1.77187e-03              -2.32701e-02             -1.34079e-03             \n",
      "1.00592e+02              1.63726e-03              1.63692e-03              3.47588e-03              2.09851e-04              \n",
      "1.02241e+02              1.51235e-03              1.51028e-03              2.16666e-02              1.37242e-03              \n",
      "1.03916e+02              1.39305e-03              1.39197e-03              1.16731e-02              7.76583e-04              \n",
      "1.05619e+02              1.28175e-03              1.28006e-03              1.88196e-02              1.31793e-03              \n",
      "1.07351e+02              1.17286e-03              1.17405e-03              -1.36501e-02             -1.00889e-03             \n",
      "1.09110e+02              1.07424e-03              1.07552e-03              -1.52666e-02             -1.19232e-03             \n",
      "1.10898e+02              9.85145e-04              9.82959e-04              2.68842e-02              2.22388e-03              \n",
      "1.12716e+02              8.95877e-04              8.96339e-04              -5.86076e-03             -5.14649e-04             \n",
      "1.14563e+02              8.14749e-04              8.15793e-04              -1.36935e-02             -1.27892e-03             \n",
      "1.16441e+02              7.40124e-04              7.39497e-04              8.50385e-03              8.48140e-04              \n",
      "1.18349e+02              6.70468e-04              6.69523e-04              1.32322e-02              1.41102e-03              \n",
      "1.20289e+02              6.03175e-04              6.02709e-04              6.74821e-03              7.73800e-04              \n",
      "1.22261e+02              5.40904e-04              5.41836e-04              -1.39403e-02             -1.72119e-03             \n",
      "1.24264e+02              4.83696e-04              4.84466e-04              -1.18858e-02             -1.58881e-03             \n",
      "1.26301e+02              4.30739e-04              4.30437e-04              4.81953e-03              7.01908e-04              \n",
      "1.28371e+02              3.81689e-04              3.81559e-04              2.14925e-03              3.41814e-04              \n",
      "1.30475e+02              3.35926e-04              3.35058e-04              1.47616e-02              2.58797e-03              \n",
      "1.32614e+02              2.92335e-04              2.92422e-04              -1.54330e-03             -3.00098e-04             \n",
      "1.34787e+02              2.52844e-04              2.53306e-04              -8.38964e-03             -1.82306e-03             \n",
      "1.36996e+02              2.17124e-04              2.16685e-04              8.23640e-03              2.02531e-03              \n",
      "1.39242e+02              1.83477e-04              1.83149e-04              6.35881e-03              1.79075e-03              \n",
      "1.41524e+02              1.52523e-04              1.52194e-04              6.59108e-03              2.16223e-03              \n",
      "1.43843e+02              1.24058e-04              1.24053e-04              1.07661e-04              4.19440e-05              \n",
      "1.46201e+02              9.79308e-05              9.74066e-05              1.12049e-02              5.38168e-03              \n",
      "1.48597e+02              7.39943e-05              7.35130e-05              1.06268e-02              6.54661e-03              \n",
      "1.51033e+02              5.21110e-05              5.17918e-05              7.28253e-03              6.16425e-03              \n",
      "1.53508e+02              3.21498e-05              3.20064e-05              3.38020e-03              4.48171e-03              \n",
      "1.56024e+02              1.39863e-05              1.39324e-05              1.31219e-03              3.86890e-03              \n",
      "1.58581e+02              -2.49755e-06             -2.94895e-06             1.13516e-02              -1.53069e-01             \n",
      "1.61180e+02              -1.74134e-05             -1.75428e-05             3.36058e-03              -7.37380e-03             \n",
      "1.63822e+02              -3.08672e-05             -3.09893e-05             3.27850e-03              -3.94202e-03             \n",
      "1.66507e+02              -4.29589e-05             -4.33776e-05             1.16084e-02              -9.65252e-03             \n",
      "1.69236e+02              -5.37832e-05             -5.40283e-05             7.02139e-03              -4.53750e-03             \n",
      "1.72010e+02              -6.34294e-05             -6.35953e-05             4.91057e-03              -2.60976e-03             \n",
      "1.74829e+02              -7.19817e-05             -7.22102e-05             6.98126e-03              -3.16307e-03             \n",
      "1.77694e+02              -7.95198e-05             -7.96801e-05             5.06145e-03              -2.01177e-03             \n",
      "1.80607e+02              -8.61185e-05             -8.62383e-05             3.90635e-03              -1.38868e-03             \n",
      "1.83567e+02              -9.18483e-05             -9.20047e-05             5.27198e-03              -1.70049e-03             \n",
      "1.86575e+02              -9.67754e-05             -9.69787e-05             7.07456e-03              -2.09563e-03             \n",
      "1.89633e+02              -1.00962e-04             -1.01407e-04             1.60031e-02              -4.38839e-03             \n",
      "1.92741e+02              -1.04467e-04             -1.04879e-04             1.52956e-02              -3.92580e-03             \n",
      "1.95900e+02              -1.07345e-04             -1.07751e-04             1.55846e-02              -3.76878e-03             \n",
      "1.99111e+02              -1.09648e-04             -1.09906e-04             1.02441e-02              -2.35104e-03             \n",
      "2.02375e+02              -1.11423e-04             -1.11864e-04             1.80562e-02              -3.94116e-03             \n",
      "2.05692e+02              -1.12716e-04             -1.13128e-04             1.74407e-02              -3.64386e-03             \n",
      "2.09063e+02              -1.13569e-04             -1.13747e-04             7.80731e-03              -1.57039e-03             \n",
      "2.12489e+02              -1.14021e-04             -1.14217e-04             8.88302e-03              -1.72248e-03             \n",
      "2.15972e+02              -1.14109e-04             -1.14313e-04             9.55732e-03              -1.79244e-03             \n",
      "2.19512e+02              -1.13867e-04             -1.14222e-04             1.71255e-02              -3.11155e-03             \n",
      "2.23109e+02              -1.13327e-04             -1.13723e-04             1.97160e-02              -3.48284e-03             \n",
      "2.26766e+02              -1.12519e-04             -1.12764e-04             1.25821e-02              -2.16984e-03             \n",
      "2.30483e+02              -1.11471e-04             -1.11873e-04             2.13729e-02              -3.59633e-03             \n",
      "2.34260e+02              -1.10208e-04             -1.10455e-04             1.35653e-02              -2.23792e-03             \n",
      "2.38100e+02              -1.08754e-04             -1.09001e-04             1.40255e-02              -2.26971e-03             \n",
      "2.42002e+02              -1.07130e-04             -1.07359e-04             1.33709e-02              -2.12660e-03             \n",
      "2.45969e+02              -1.05358e-04             -1.05753e-04             2.38664e-02              -3.73024e-03             \n",
      "2.50000e+02              -1.03457e-04             -1.03673e-04             1.34967e-02              -2.08297e-03             \n"
     ]
    }
   ],
   "source": [
    "# print some values\n",
    "n = 0 # redshift    \n",
    "print(\"r                        xi(CCL)                   xi(benchmark)            Delta(r^2 xi)       Delta xi / xi_benchmark\")\n",
    "for i in range(140):\n",
    "    col = []\n",
    "    s = ''\n",
    "    if i < 40:\n",
    "        col.append(\"{:.5e}\".format(r1[i]).ljust(25))\n",
    "        col.append(\"{:.5e}\".format(xi1[n][i]).ljust(25))\n",
    "        col.append(\"{:.5e}\".format(xi_toolkit1[n][i]).ljust(25))\n",
    "        err = r1[i]*r1[i]*(xi1[n][i]-xi_toolkit1[n][i])\n",
    "        col.append(\"{:.5e}\".format(err).ljust(25))\n",
    "        rel_diff = (xi1[n][i]-xi_toolkit1[n][i])/xi_toolkit1[n][i]\n",
    "        col.append(\"{:.5e}\".format(rel_diff).ljust(25))\n",
    "    #s = col[0] + col[1] + col[2] + col[3] + col[4]\n",
    "    else:\n",
    "        col.append(\"{:.5e}\".format(r2[i-40]).ljust(25))\n",
    "        col.append(\"{:.5e}\".format(xi2[n][i-40]).ljust(25))\n",
    "        col.append(\"{:.5e}\".format(xi_toolkit2[n][i-40]).ljust(25))\n",
    "        err = r2[i-40]*r2[i-40]*(xi2[n][i-40]-xi_toolkit2[n][i-40])\n",
    "        col.append(\"{:.5e}\".format(err).ljust(25))\n",
    "        rel_diff = (xi2[n][i-40]-xi_toolkit2[n][i-40])/xi_toolkit2[n][i-40]\n",
    "        col.append(\"{:.5e}\".format(rel_diff).ljust(25)) \n",
    "    s = col[0] + col[1] + col[2] + col[3] + col[4]\n",
    "        \n",
    "    print(s)"
   ]
  },
  {
   "cell_type": "code",
   "execution_count": 32,
   "metadata": {},
   "outputs": [
    {
     "data": {
      "image/png": "[encoded data removed]",
      "text/plain": [
       "<Figure size 432x288 with 1 Axes>"
      ]
     },
     "metadata": {
      "needs_background": "light"
     },
     "output_type": "display_data"
    },
    {
     "name": "stdout",
     "output_type": "stream",
     "text": [
      "frac diff for r = 0.1-100:  0.002526427174667445\n",
      "frac diff for r = 50-250:  0.15306941576688715\n"
     ]
    }
   ],
   "source": [
    "# Plot relative difference\n",
    "frac_diff1 = []\n",
    "frac_diff2 = []\n",
    "abs_diff1 = []    \n",
    "abs_diff2 = []\n",
    "\n",
    "for i in range(nr1):\n",
    "    frac_diff1.append(np.abs(xi1[n][i]/xi_toolkit1[n][i] - 1.))\n",
    "    abs_diff1.append(np.abs(r1[i]*r1[i]*(xi1[n][i]-xi_toolkit1[n][i])))\n",
    "    #print r1[i], xi_toolkit1[n][i], xi1[n][i], r1[i]*r1[i]*(xi1[n][i]-xi_toolkit1[n][i])\n",
    "    \n",
    "for i in range(nr2):\n",
    "    frac_diff2.append(np.abs(1-xi2[n][i]/xi_toolkit2[n][i]))\n",
    "    abs_diff2.append(np.abs(r2[i]*r2[i]*(xi2[n][i]-xi_toolkit2[n][i])))\n",
    "\n",
    "# esthetic definitions for the plots\n",
    "matplotlib.rcParams['mathtext.fontset'] = 'stix'\n",
    "matplotlib.rcParams['font.family'] = 'STIXGeneral'\n",
    "matplotlib.rcParams['font.size'] = 14\n",
    "\n",
    "plt.plot(r1, frac_diff1, 'b-')\n",
    "plt.plot(r2, frac_diff2, 'r-')\n",
    "plt.xscale('log')\n",
    "plt.yscale('log')\n",
    "plt.xlabel(r'$r$ (Mpc)')\n",
    "plt.ylabel(r'$\\Delta \\xi(r) / \\xi(r)$')\n",
    "plt.grid(which='major')\n",
    "plt.title('Relative difference') \n",
    "plt.savefig('benchmark_rel.pdf',bbox_inches = 'tight')\n",
    "plt.show()\n",
    "#print frac_diff1\n",
    "print(\"frac diff for r = 0.1-100: \", np.amax(frac_diff1))\n",
    "print(\"frac diff for r = 50-250: \", np.amax(frac_diff2))"
   ]
  },
  {
   "cell_type": "code",
   "execution_count": 33,
   "metadata": {
    "scrolled": false
   },
   "outputs": [
    {
     "data": {
      "image/png": "[encoded data removed]",
      "text/plain": [
       "<Figure size 432x288 with 1 Axes>"
      ]
     },
     "metadata": {
      "needs_background": "light"
     },
     "output_type": "display_data"
    },
    {
     "name": "stdout",
     "output_type": "stream",
     "text": [
      "max diff for r = 0.1-100:  0.02554546783902975\n",
      "max diff for r = 50-250:  0.027782293661027104\n",
      "average Delta(r^2 xi) for r=140-150 Mpc: 0.006977835181869886\n"
     ]
    }
   ],
   "source": [
    "# plot absolute difference in r^2 xi(r)\n",
    "plt.plot(r1, abs_diff1, 'b-')\n",
    "plt.plot(r2, abs_diff2, 'r-')\n",
    "plt.xscale('log')\n",
    "plt.yscale('log')\n",
    "plt.xlabel(r'$r$ (Mpc)')\n",
    "plt.ylabel(r'$\\Delta (r^2 \\xi(r)) $')\n",
    "plt.grid(which='minor')\n",
    "plt.title('Absolute difference') \n",
    "plt.grid(which='both')\n",
    "plt.savefig('benchmark_abs.pdf',bbox_inches = 'tight')\n",
    "plt.show()\n",
    "#print abs_diff\n",
    "print(\"max diff for r = 0.1-100: \", np.amax(abs_diff1))\n",
    "print(\"max diff for r = 50-250: \", np.amax(abs_diff2))\n",
    "\n",
    "\n",
    "# find and print the average of Delta(r^2 xi) in the BAO peak region\n",
    "max_value = 0\n",
    "max_value_index = 0\n",
    "avg_value = 0\n",
    "for i in range(63,68):\n",
    "    #print i, r2[i], abs_diff2[i]\n",
    "    avg_value = avg_value + abs_diff2[i]\n",
    "avg_value = avg_value / 5.\n",
    "print(\"average Delta(r^2 xi) for r=140-150 Mpc:\", avg_value)"
   ]
  },
  {
   "cell_type": "code",
   "execution_count": 34,
   "metadata": {
    "scrolled": true
   },
   "outputs": [],
   "source": [
    "for i in range(nr1):\n",
    "    col = []\n",
    "    s = ''\n",
    "    col.append(\"{:.18e}\".format(r1[i]).ljust(25))\n",
    "    col.append(\"{:.18e}\".format(frac_diff1[i]).ljust(25))\n",
    "    col.append(\"{:.18e}\".format(abs_diff1[i]).ljust(25))\n",
    "    s = col[0] + col[1] + col[2]  \n",
    "    #print(s)"
   ]
  },
  {
   "cell_type": "code",
   "execution_count": 35,
   "metadata": {},
   "outputs": [],
   "source": [
    "for i in range(nr2):\n",
    "    col = []\n",
    "    s = ''\n",
    "    col.append(\"{:.18e}\".format(r2[i]).ljust(25))\n",
    "    col.append(\"{:.18e}\".format(frac_diff2[i]).ljust(25))\n",
    "    col.append(\"{:.18e}\".format(abs_diff2[i]).ljust(25))\n",
    "    s = col[0] + col[1] + col[2]  \n",
    "    #print(s)"
   ]
  },
  {
   "cell_type": "code",
   "execution_count": null,
   "metadata": {},
   "outputs": [],
   "source": []
  }
 ],
 "metadata": {
  "kernelspec": {
   "display_name": "Python 3",
   "language": "python",
   "name": "python3"
  },
  "language_info": {
   "codemirror_mode": {
    "name": "ipython",
    "version": 3
   },
   "file_extension": ".py",
   "mimetype": "text/x-python",
   "name": "python",
   "nbconvert_exporter": "python",
   "pygments_lexer": "ipython3",
   "version": "3.6.7"
  }
 },
 "nbformat": 4,
 "nbformat_minor": 2
}
