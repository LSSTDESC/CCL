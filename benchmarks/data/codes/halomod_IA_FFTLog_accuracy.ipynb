{
 "cells": [
  {
   "cell_type": "markdown",
   "source": [
    "This notebook calculates the angular power spectra for the intrinsic alignment halo model using the Simpson's integration method with enough sampling points to get a very high accuracy on the computation of the Fourier transform of the intrinsic satellite shear profile. It serves as a test for the accuracy of the FFTLog-based results which are obtained much faster than the Simpsons method."
   ],
   "metadata": {
    "collapsed": false,
    "pycharm": {
     "name": "#%% md\n"
    }
   }
  },
  {
   "cell_type": "code",
   "execution_count": 1,
   "metadata": {
    "collapsed": true
   },
   "outputs": [],
   "source": [
    "import numpy as np\n",
    "import pyccl as ccl\n",
    "import matplotlib.pyplot as plt"
   ]
  },
  {
   "cell_type": "markdown",
   "source": [
    "# Preliminaries\n",
    "First we generate the cosmology, the wavenumber $k$ and scale factor $a$ arrays. The arrays are used for computing the power spectrum, $P(k,a)$."
   ],
   "metadata": {
    "collapsed": false,
    "pycharm": {
     "name": "#%% md\n"
    }
   }
  },
  {
   "cell_type": "code",
   "execution_count": 2,
   "outputs": [],
   "source": [
    "cosmo = ccl.Cosmology(Omega_c=0.27, Omega_b=0.045, h=0.67, sigma8=0.83, n_s=0.96)\n",
    "\n",
    "k_arr = np.geomspace(1E-3, 1e3, 256)  # For evaluating\n",
    "a_arr = np.linspace(0.1, 1, 32)"
   ],
   "metadata": {
    "collapsed": false,
    "pycharm": {
     "name": "#%%\n"
    }
   }
  },
  {
   "cell_type": "markdown",
   "source": [
    "We also need to initialize halo model quantities. These are:\n",
    " - A halo mass definition.\n",
    " - A concentration-mass relation.\n",
    " - A halo mass function.\n",
    " - A halo bias function.\n",
    " - A halo model calculator object that will take care of the various integrals."
   ],
   "metadata": {
    "collapsed": false,
    "pycharm": {
     "name": "#%% md\n"
    }
   }
  },
  {
   "cell_type": "code",
   "execution_count": 3,
   "outputs": [],
   "source": [
    "# Here we use a mass definition with Delta = 200 times the matter density,\n",
    "hmd_200m = ccl.halos.MassDef200m()\n",
    "\n",
    "# the Duffy 2008 concentration-mass relation,\n",
    "cM = ccl.halos.ConcentrationDuffy08(hmd_200m)\n",
    "\n",
    "# the Tinker 2008 halo mass function,\n",
    "nM = ccl.halos.MassFuncTinker08(cosmo, mass_def=hmd_200m)\n",
    "\n",
    "# the Tinker 2010 halo bias,\n",
    "bM = ccl.halos.HaloBiasTinker10(cosmo, mass_def=hmd_200m)\n",
    "\n",
    "# and the halo model calculator object.\n",
    "hmc = ccl.halos.HMCalculator(cosmo, nM, bM, hmd_200m)"
   ],
   "metadata": {
    "collapsed": false,
    "pycharm": {
     "name": "#%%\n"
    }
   }
  },
  {
   "cell_type": "markdown",
   "source": [
    "Define the satellite shear HODs:\n",
    "- One doing the FFTLog integration.\n",
    "- One doing the Simpson's with high sampling (taken as the fiducial)."
   ],
   "metadata": {
    "collapsed": false,
    "pycharm": {
     "name": "#%% md\n"
    }
   }
  },
  {
   "cell_type": "code",
   "execution_count": 4,
   "outputs": [],
   "source": [
    "sat_gamma_HOD_simps = ccl.halos.SatelliteShearHOD(cM, integration_method='simps')\n",
    "sat_gamma_HOD_simps.update_r_integral_params(N_r=2048)"
   ],
   "metadata": {
    "collapsed": false,
    "pycharm": {
     "name": "#%%\n"
    }
   }
  },
  {
   "cell_type": "markdown",
   "source": [
    "Here I show that the intrinsic shear field integrated with a Simpson's method using 2048 points is roughly the same as that with 4096 points even for a halo of mass with $10^{15}$ M$_\\odot$. We can conclude that at 2048 points the integration has converged sufficiently to the analytical solution. The convergence is faster for lower masses."
   ],
   "metadata": {
    "collapsed": false,
    "pycharm": {
     "name": "#%% md\n"
    }
   }
  },
  {
   "cell_type": "code",
   "execution_count": 5,
   "outputs": [
    {
     "data": {
      "text/plain": "<Figure size 432x288 with 1 Axes>",
      "image/png": "[encoded data removed]"
     },
     "metadata": {
      "needs_background": "light"
     },
     "output_type": "display_data"
    }
   ],
   "source": [
    "mass = 1e15 # Msun\n",
    "a = 1.\n",
    "# Fiducial gamma(k) with 2048 sampling points for integration.\n",
    "gammak0 = sat_gamma_HOD_simps._usat_fourier(cosmo, k_arr, mass, a, hmd_200m)\n",
    "\n",
    "fig, ax = plt.subplots()\n",
    "\n",
    "for Nrpoints in [512, 1024, 4096]:\n",
    "    sat_gamma_HOD_simps.update_r_integral_params(N_r=Nrpoints)\n",
    "    gammak = sat_gamma_HOD_simps._usat_fourier(cosmo, k_arr, mass, a, hmd_200m)\n",
    "    ax.plot(k_arr, gammak0/gammak-1, label='$N_r=%i$'%Nrpoints)\n",
    "ax.set_ylim([-0.1,0.1])\n",
    "ax.set_xlabel('$k$ [$h$/Mpc]')\n",
    "ax.set_ylabel('$\\gamma(k,N_r)/\\gamma(k,2048)-1$')\n",
    "ax.legend()\n",
    "\n",
    "fig.tight_layout()\n",
    "\n",
    "# Set back to 2048\n",
    "sat_gamma_HOD_simps.update_r_integral_params(N_r=2048)"
   ],
   "metadata": {
    "collapsed": false,
    "pycharm": {
     "name": "#%%\n"
    }
   }
  },
  {
   "cell_type": "markdown",
   "source": [
    "Now I construct the Pk2D objects for GI and II correlations using the Simpson's method. These will be used to compute angular power spectra."
   ],
   "metadata": {
    "collapsed": false,
    "pycharm": {
     "name": "#%% md\n"
    }
   }
  },
  {
   "cell_type": "code",
   "execution_count": 6,
   "outputs": [
    {
     "name": "stdout",
     "output_type": "stream",
     "text": [
      "CPU times: user 3min 33s, sys: 1min 21s, total: 4min 55s\n",
      "Wall time: 4min 55s\n"
     ]
    }
   ],
   "source": [
    "%%time\n",
    "# NFW profile for matter\n",
    "NFW =  ccl.halos.HaloProfileNFW(cM, truncated=True, fourier_analytic=True)\n",
    "\n",
    "pk_GI_1h_simps = ccl.halos.halomod_Pk2D(cosmo, hmc, NFW,\n",
    "                                  normprof1=True,\n",
    "                                  prof2 = sat_gamma_HOD_simps,\n",
    "                                  get_2h = False,\n",
    "                                  lk_arr = np.log(k_arr),\n",
    "                                  a_arr = a_arr)\n",
    "pk_II_1h_simps = ccl.halos.halomod_Pk2D(cosmo, hmc, sat_gamma_HOD_simps,\n",
    "                                  get_2h = False,\n",
    "                                  lk_arr = np.log(k_arr),\n",
    "                                  a_arr = a_arr)"
   ],
   "metadata": {
    "collapsed": false,
    "pycharm": {
     "name": "#%%\n"
    }
   }
  },
  {
   "cell_type": "markdown",
   "source": [
    "The intrinsic alignment power spectra are higher at lower redshift, and I construct a redshift distribution that peaks at lower redshift to compute the angular power spectra."
   ],
   "metadata": {
    "collapsed": false,
    "pycharm": {
     "name": "#%% md\n"
    }
   }
  },
  {
   "cell_type": "code",
   "execution_count": 7,
   "outputs": [
    {
     "data": {
      "text/plain": "Text(0, 0.5, '$n(z)$')"
     },
     "execution_count": 7,
     "metadata": {},
     "output_type": "execute_result"
    },
    {
     "data": {
      "text/plain": "<Figure size 432x288 with 1 Axes>",
      "image/png": "[encoded data removed]"
     },
     "metadata": {
      "needs_background": "light"
     },
     "output_type": "display_data"
    }
   ],
   "source": [
    "z_arr = np.linspace(0., 3., 256)\n",
    "z0 = 0.1\n",
    "pz = 1./(2.*z0) * (z_arr / z0)**2. * np.exp(-z_arr/z0)\n",
    "\n",
    "plt.plot(z_arr, pz)\n",
    "plt.xlabel('Redshift')\n",
    "plt.ylabel('$n(z)$')"
   ],
   "metadata": {
    "collapsed": false,
    "pycharm": {
     "name": "#%%\n"
    }
   }
  },
  {
   "cell_type": "code",
   "execution_count": 8,
   "outputs": [],
   "source": [
    "# Angular power spectra\n",
    "b_IA = np.ones(len(z_arr)) # A_IA = 1 in the NLA model\n",
    "# A tracer without shear and A_IA contribution. The alignment signal is embedded in the power spectrum.\n",
    "ia_tracer = ccl.WeakLensingTracer(cosmo, dndz = (z_arr, pz), has_shear=False, ia_bias = (z_arr, b_IA), use_A_ia=False)\n",
    "# A tracer without shear but with A_IA, to compute the NLA-only contribution.\n",
    "ia_NLA_tracer = ccl.WeakLensingTracer(cosmo,dndz = (z_arr, pz), has_shear=False, ia_bias = (z_arr, b_IA), use_A_ia=True)\n",
    "# A weak gravitational lensing tracer for the GG and GI terms.\n",
    "wl_tracer = ccl.WeakLensingTracer(cosmo,dndz = (z_arr, pz))\n",
    "\n",
    "l_arr = np.unique(np.geomspace(2, 10000, 256).astype(int))\n",
    "\n",
    "cl_GI_1h_simps = ccl.angular_cl(cosmo, wl_tracer, ia_tracer, l_arr, p_of_k_a = pk_GI_1h_simps)\n",
    "cl_II_1h_simps = ccl.angular_cl(cosmo, ia_tracer, ia_tracer, l_arr, p_of_k_a = pk_II_1h_simps)\n",
    "cl_GI_NLA = ccl.angular_cl(cosmo, wl_tracer, ia_NLA_tracer, l_arr)\n",
    "cl_II_NLA = ccl.angular_cl(cosmo, ia_NLA_tracer, ia_NLA_tracer, l_arr)\n",
    "cl_GG = ccl.angular_cl(cosmo, wl_tracer, wl_tracer, l_arr)\n",
    "cl_GI_simps = cl_GI_1h_simps + cl_GI_NLA\n",
    "cl_II_simps = cl_II_1h_simps + cl_II_NLA"
   ],
   "metadata": {
    "collapsed": false,
    "pycharm": {
     "name": "#%%\n"
    }
   }
  },
  {
   "cell_type": "code",
   "execution_count": 9,
   "outputs": [
    {
     "data": {
      "text/plain": "<Figure size 432x288 with 1 Axes>",
      "image/png": "[encoded data removed]"
     },
     "metadata": {
      "needs_background": "light"
     },
     "output_type": "display_data"
    }
   ],
   "source": [
    "lfac = l_arr * (l_arr + 1) / (2 * np.pi)\n",
    "\n",
    "fig, ax = plt.subplots(1, 1)\n",
    "ax.plot(l_arr, lfac * cl_II_simps, label='II, NLA+1h')\n",
    "ax.plot(l_arr, lfac * cl_II_NLA, label='II, NLA')\n",
    "ax.plot(l_arr, lfac * -cl_GI_simps, label='GI, NLA+1h', ls='--')\n",
    "ax.plot(l_arr, lfac * -cl_GI_NLA, label='GI, NLA', ls='--')\n",
    "ax.plot(l_arr, lfac * cl_GG, label='GG')\n",
    "\n",
    "ax.set_xscale('log')\n",
    "ax.set_yscale('log')\n",
    "ax.set_ylabel(r'$C_\\ell$')\n",
    "ax.set_xlabel(r'$\\ell$')\n",
    "ax.legend()\n",
    "\n",
    "fig.tight_layout()\n",
    "plt.show()"
   ],
   "metadata": {
    "collapsed": false,
    "pycharm": {
     "name": "#%%\n"
    }
   }
  },
  {
   "cell_type": "code",
   "execution_count": 10,
   "outputs": [],
   "source": [
    "output_data = np.column_stack((l_arr, cl_GI_1h_simps, cl_II_1h_simps))\n",
    "np.savetxt('../IA_halomodel_Cell_test.txt', output_data, delimiter=',')"
   ],
   "metadata": {
    "collapsed": false,
    "pycharm": {
     "name": "#%%\n"
    }
   }
  },
  {
   "cell_type": "markdown",
   "source": [
    "Now I test the same calculation using FFTLog as an integration method and compare the two:"
   ],
   "metadata": {
    "collapsed": false,
    "pycharm": {
     "name": "#%% md\n"
    }
   }
  },
  {
   "cell_type": "code",
   "execution_count": 11,
   "outputs": [],
   "source": [
    "l_arr, cl_GI_benchmark, cl_II_benchmark = np.loadtxt(\n",
    "    '../IA_halomodel_Cell_test.txt', delimiter=',', unpack=True)\n",
    "cosmo = ccl.Cosmology(Omega_c=0.27, Omega_b=0.045, h=0.67, sigma8=0.83, n_s=0.96)\n",
    "k_arr = np.geomspace(1E-3, 1e2, 128)  # For evaluating\n",
    "a_arr = np.linspace(0.1, 1, 16) # Reduced scale factor sampling for speed\n",
    "\n",
    "hmd_200m = ccl.halos.MassDef200m()\n",
    "cM = ccl.halos.ConcentrationDuffy08(hmd_200m)\n",
    "nM = ccl.halos.MassFuncTinker08(cosmo, mass_def=hmd_200m)\n",
    "bM = ccl.halos.HaloBiasTinker10(cosmo, mass_def=hmd_200m)\n",
    "hmc = ccl.halos.HMCalculator(cosmo, nM, bM, hmd_200m, nlog10M=64) # Reduced mass sampling for speed"
   ],
   "metadata": {
    "collapsed": false,
    "pycharm": {
     "name": "#%%\n"
    }
   }
  },
  {
   "cell_type": "code",
   "execution_count": 12,
   "outputs": [
    {
     "name": "stdout",
     "output_type": "stream",
     "text": [
      "CPU times: user 5.35 s, sys: 1.46 s, total: 6.81 s\n",
      "Wall time: 1.22 s\n"
     ]
    }
   ],
   "source": [
    "%%time\n",
    "sat_gamma_HOD = ccl.halos.SatelliteShearHOD(cM)\n",
    "# Tweaking the parameters to get required accuracy:\n",
    "sat_gamma_HOD.update_precision_fftlog(padding_lo_fftlog=1E-2,\n",
    "                                      padding_hi_fftlog=1E3,\n",
    "                                      n_per_decade=350,\n",
    "                                      plaw_fourier=-3.7)\n",
    "NFW = ccl.halos.HaloProfileNFW(cM, truncated=True, fourier_analytic=True)\n",
    "\n",
    "pk_GI_1h = ccl.halos.halomod_Pk2D(cosmo, hmc, NFW,\n",
    "                                  normprof1=True,\n",
    "                                  prof2=sat_gamma_HOD,\n",
    "                                  get_2h=False,\n",
    "                                  lk_arr=np.log(k_arr),\n",
    "                                  a_arr=a_arr)\n",
    "pk_II_1h = ccl.halos.halomod_Pk2D(cosmo, hmc, sat_gamma_HOD,\n",
    "                                  get_2h=False,\n",
    "                                  lk_arr=np.log(k_arr),\n",
    "                                  a_arr=a_arr)\n",
    "\n",
    "z_arr = np.linspace(0., 3., 256)\n",
    "z0 = 0.1\n",
    "pz = 1. / (2. * z0) * (z_arr / z0) ** 2. * np.exp(-z_arr / z0)\n",
    "\n",
    "b_IA = np.ones(len(z_arr))\n",
    "ia_tracer = ccl.WeakLensingTracer(cosmo, dndz=(z_arr, pz), has_shear=False, ia_bias=(z_arr, b_IA), use_A_ia=False)\n",
    "wl_tracer = ccl.WeakLensingTracer(cosmo, dndz=(z_arr, pz))\n",
    "\n",
    "cl_GI_1h = ccl.angular_cl(cosmo, wl_tracer, ia_tracer, l_arr, p_of_k_a=pk_GI_1h)\n",
    "cl_II_1h = ccl.angular_cl(cosmo, ia_tracer, ia_tracer, l_arr, p_of_k_a=pk_II_1h)"
   ],
   "metadata": {
    "collapsed": false,
    "pycharm": {
     "name": "#%%\n"
    }
   }
  },
  {
   "cell_type": "code",
   "execution_count": 13,
   "outputs": [
    {
     "data": {
      "text/plain": "<Figure size 432x288 with 1 Axes>",
      "image/png": "[encoded data removed]"
     },
     "metadata": {
      "needs_background": "light"
     },
     "output_type": "display_data"
    }
   ],
   "source": [
    "fig, ax = plt.subplots(1, 1)\n",
    "\n",
    "ax.plot(l_arr, cl_II_1h/cl_II_benchmark-1, label='II, 1h')\n",
    "ax.plot(l_arr, cl_GI_1h/cl_GI_benchmark-1, label='GI, 1h', ls='--')\n",
    "ax.fill_between(l_arr, -0.01, 0.01, color='k', alpha=0.1)\n",
    "ax.axhline(y=0, ls='dotted', c='black')\n",
    "ax.set_xscale('log')\n",
    "ax.set_ylabel(r'$C_\\ell^\\mathrm{FFTLog}/C_\\ell^\\mathrm{simps}-1$')\n",
    "ax.set_xlabel(r'$\\ell$')\n",
    "ax.legend()\n",
    "\n",
    "fig.tight_layout()\n",
    "plt.show()\n",
    "\n",
    "assert np.all(np.fabs(cl_GI_1h / cl_GI_benchmark - 1) < 0.01)\n",
    "assert np.all(np.fabs(cl_II_1h / cl_II_benchmark - 1) < 0.01)"
   ],
   "metadata": {
    "collapsed": false,
    "pycharm": {
     "name": "#%%\n"
    }
   }
  },
  {
   "cell_type": "markdown",
   "source": [
    "This is accurate to about 1% down to $\\ell\\le10,000$. Higher accuracy can be achieved by tweaking the FFTLog parameters (e.g. number of points per decade, power law index, padding) or increasing sampling in $k$, $a$ and $M$. Note that the relevant scales are $\\ell\\gtrsim$350, below which the NLA profile is dominant, as seen in the figure above."
   ],
   "metadata": {
    "collapsed": false,
    "pycharm": {
     "name": "#%% md\n"
    }
   }
  }
 ],
 "metadata": {
  "kernelspec": {
   "display_name": "Python 3",
   "language": "python",
   "name": "python3"
  },
  "language_info": {
   "codemirror_mode": {
    "name": "ipython",
    "version": 2
   },
   "file_extension": ".py",
   "mimetype": "text/x-python",
   "name": "python",
   "nbconvert_exporter": "python",
   "pygments_lexer": "ipython2",
   "version": "2.7.6"
  }
 },
 "nbformat": 4,
 "nbformat_minor": 0
}