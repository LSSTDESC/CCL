{
 "cells": [
  {
   "cell_type": "code",
   "execution_count": 1,
   "id": "initial_id",
   "metadata": {
    "collapsed": true,
    "ExecuteTime": {
     "end_time": "2024-01-25T14:51:28.202822Z",
     "start_time": "2024-01-25T14:51:26.712146Z"
    }
   },
   "outputs": [
    {
     "name": "stdout",
     "output_type": "stream",
     "text": [
      "3.0.0\n"
     ]
    }
   ],
   "source": [
    "import cmasher as cmr\n",
    "import matplotlib.pyplot as plt\n",
    "import matplotlib.ticker as ticker\n",
    "from matplotlib.ticker import ScalarFormatter\n",
    "import numpy as np\n",
    "import pyccl as ccl\n",
    "print(ccl.__version__)"
   ]
  },
  {
   "cell_type": "code",
   "outputs": [
    {
     "data": {
      "text/plain": "<Figure size 700x500 with 1 Axes>",
      "image/png": "[encoded data removed]"
     },
     "metadata": {},
     "output_type": "display_data"
    }
   ],
   "source": [
    "# Set default rcParams using plt.rc\n",
    "plt.rc('figure', figsize=[7, 5])  # Default figure size\n",
    "plt.rc('lines', linewidth=3, markersize=10)  # Default line width and marker size\n",
    "plt.rc('image', cmap='cmr.pride')  # Default color map\n",
    "plt.gca().tick_params(direction='in', which='both')  # Tick parameters for both xtick and ytick\n",
    "plt.rc('axes', labelsize=15)  # Font sizes for x and y labels\n",
    "plt.rc('legend', frameon=False, fontsize=12)  # Legend properties\n",
    "\n",
    "# Default colors\n",
    "def get_colors(data_len, cmap='cmr.pride'):\n",
    "    return cmr.take_cmap_colors(cmap, data_len, cmap_range=(0.1, 0.9), return_fmt='hex')\n",
    "# Use \"plasma\" colormap as well\n",
    "plots_path = \"plots_output/\""
   ],
   "metadata": {
    "collapsed": false,
    "ExecuteTime": {
     "end_time": "2024-01-25T14:51:28.411867Z",
     "start_time": "2024-01-25T14:51:28.204154Z"
    }
   },
   "id": "2d12c5c64155ea3b",
   "execution_count": 2
  },
  {
   "cell_type": "code",
   "outputs": [],
   "source": [
    "cosmology_vanilla = ccl.CosmologyVanillaLCDM()  # cosmology object\n",
    "k = np.logspace(-3, 1, 100)  # wavenumber\n",
    "a = 1.  # scale factor a z=0\n",
    "# Compute the nonlinear power spectra, no baryons\n",
    "# note that this is using halofit\n",
    "pk_nonlin = ccl.nonlin_matter_power(cosmology_vanilla, k, a)"
   ],
   "metadata": {
    "collapsed": false,
    "ExecuteTime": {
     "end_time": "2024-01-25T14:51:29.367208Z",
     "start_time": "2024-01-25T14:51:28.405834Z"
    }
   },
   "id": "46d112c60fe4abe1",
   "execution_count": 3
  },
  {
   "cell_type": "markdown",
   "source": [
    "# Construct the Power Spectra"
   ],
   "metadata": {
    "collapsed": false
   },
   "id": "18154e4f0a5e6692"
  },
  {
   "cell_type": "markdown",
   "source": [
    "## DM only $P_k$ "
   ],
   "metadata": {
    "collapsed": false
   },
   "id": "fef6c4a1f123946d"
  },
  {
   "cell_type": "code",
   "outputs": [],
   "source": [
    "# Dark matter only $P_K$ from the Mira-Titan emulator\n",
    "emulator_dm_only = ccl.CosmicemuMTIVPk(\"tot\")  # nonlinear power spectrum emulator for CosmicEmu (Mira-Titan IV)\n",
    "cosmology_dm_only = ccl.CosmologyVanillaLCDM(matter_power_spectrum=emulator_dm_only)  # cosmology object\n",
    "pk_dm_only = cosmology_dm_only.nonlin_matter_power(k, a)"
   ],
   "metadata": {
    "collapsed": false,
    "ExecuteTime": {
     "end_time": "2024-01-25T14:51:29.751916Z",
     "start_time": "2024-01-25T14:51:29.315927Z"
    }
   },
   "id": "de8470abd3f8c4cc",
   "execution_count": 4
  },
  {
   "cell_type": "markdown",
   "source": [
    "##  HMCode $P_k$"
   ],
   "metadata": {
    "collapsed": false
   },
   "id": "7329716da2c4051"
  },
  {
   "cell_type": "code",
   "outputs": [],
   "source": [
    "cosmology_hmcode = ccl.CosmologyVanillaLCDM(\n",
    "   matter_power_spectrum=\"camb\",\n",
    "   extra_parameters={\"camb\": {\"kmax\": 20.0,\n",
    "                               \"halofit_version\": \"mead2020_feedback\",\n",
    "                               \"HMCode_logT_AGN\": 7.8}}\n",
    ")\n",
    "pk_hmcode = cosmology_hmcode.nonlin_matter_power(k, a)"
   ],
   "metadata": {
    "collapsed": false,
    "ExecuteTime": {
     "end_time": "2024-01-25T14:51:31.721702Z",
     "start_time": "2024-01-25T14:51:29.756054Z"
    }
   },
   "id": "fbef1ceee0b516f9",
   "execution_count": 5
  },
  {
   "cell_type": "markdown",
   "source": [
    "## BCM $P_k$"
   ],
   "metadata": {
    "collapsed": false
   },
   "id": "5fe8201f6124a095"
  },
  {
   "cell_type": "code",
   "outputs": [],
   "source": [
    "bcm = ccl.baryons.BaryonsSchneider15()  # baryonic correction model\n",
    "bcm_boost = bcm.include_baryonic_effects(\n",
    "    cosmo=cosmology_vanilla,\n",
    "    pk=cosmology_vanilla.get_nonlin_power()\n",
    ")\n",
    "pk_bcm = bcm_boost(k, a)"
   ],
   "metadata": {
    "collapsed": false,
    "ExecuteTime": {
     "end_time": "2024-01-25T14:51:31.730267Z",
     "start_time": "2024-01-25T14:51:31.723686Z"
    }
   },
   "id": "f211d18bace3ef2a",
   "execution_count": 6
  },
  {
   "cell_type": "markdown",
   "source": [
    "## BACCOEmu $P_k$"
   ],
   "metadata": {
    "collapsed": false
   },
   "id": "fbba5d29696c2c04"
  },
  {
   "cell_type": "code",
   "outputs": [
    {
     "name": "stderr",
     "output_type": "stream",
     "text": [
      "2024-01-25 14:51:37.395797: I tensorflow/core/platform/cpu_feature_guard.cc:182] This TensorFlow binary is optimized to use available CPU instructions in performance-critical operations.\n",
      "To enable the following instructions: AVX2 FMA, in other operations, rebuild TensorFlow with the appropriate compiler flags.\n"
     ]
    }
   ],
   "source": [
    "baccoemu = ccl.BaccoemuBaryons()\n",
    "cosmology_baccoemu = ccl.CosmologyVanillaLCDM()\n",
    "bacco_boost = baccoemu.boost_factor(cosmology_baccoemu, k, a)\n",
    "pk_bacco = cosmology_baccoemu.nonlin_matter_power(k, a) * bacco_boost"
   ],
   "metadata": {
    "collapsed": false,
    "ExecuteTime": {
     "end_time": "2024-01-25T14:51:51.338331Z",
     "start_time": "2024-01-25T14:51:31.732197Z"
    }
   },
   "id": "e7741d5b5caff6f0",
   "execution_count": 7
  },
  {
   "cell_type": "markdown",
   "source": [
    "## VanDaalen $P_k$"
   ],
   "metadata": {
    "collapsed": false
   },
   "id": "22918a53a63a6111"
  },
  {
   "cell_type": "code",
   "outputs": [],
   "source": [
    "vd = ccl.baryons.BaryonsvanDaalen19()  # Van Daalen 2019\n",
    "vd_boost = vd.include_baryonic_effects(\n",
    "   cosmo=cosmology_vanilla,\n",
    "    pk=cosmology_vanilla.get_nonlin_power()\n",
    ")\n",
    "pk_vd = vd_boost(k, a)"
   ],
   "metadata": {
    "collapsed": false,
    "ExecuteTime": {
     "end_time": "2024-01-25T14:51:51.350708Z",
     "start_time": "2024-01-25T14:51:51.342100Z"
    }
   },
   "id": "48b30fc5d008df23",
   "execution_count": 8
  },
  {
   "cell_type": "code",
   "outputs": [],
   "source": [
    "# Here we save the data to a npy file\n",
    "\n",
    "# First we define the data dictionary\n",
    "data_dict = {\n",
    "    \"k\": k,\n",
    "    \"pk_nonlin\": pk_nonlin,\n",
    "    \"pk_dm_only\": pk_dm_only,\n",
    "    \"pk_bcm\": pk_bcm,\n",
    "    \"pk_vd\": pk_vd,\n",
    "    \"pk_hmcode\": pk_hmcode,\n",
    "    \"pk_bacco\": pk_bacco,\n",
    "}\n",
    "\n",
    "# Define a separate dictionary for labels\n",
    "labels_dict = {\n",
    "    \"k\": \"$k$\",\n",
    "    \"pk_nonlin\": \"$P(k)^\\mathrm{nonlin}$\",\n",
    "    \"pk_dm_only\": \"$P(k)^\\mathrm{DM \\; only}$\",\n",
    "    \"pk_bcm\": \"$P(k)^\\mathrm{Schneider 15}$\",\n",
    "    \"pk_vd\": \"$P(k)^\\mathrm{Van Daalen 19}$\",\n",
    "    \"pk_hmcode\": \"$P(k)^\\mathrm{Mead 20}$\",\n",
    "    \"pk_bacco\": \"$P(k)^\\mathrm{Aricò 21}$\",\n",
    "}\n",
    "\n",
    "# Then we save the data dictionary to a npy file\n",
    "np.save(\"data/baryons_pk_data.npy\", data_dict)\n",
    "np.save(\"data/baryons_pk_labels.npy\", labels_dict)\n",
    "\n",
    "# We load the data from the npy file\n",
    "data_dict = np.load(\"data/baryons_pk_data.npy\", allow_pickle=True).item()"
   ],
   "metadata": {
    "collapsed": false,
    "ExecuteTime": {
     "end_time": "2024-01-26T04:28:24.484541Z",
     "start_time": "2024-01-26T04:28:24.184378Z"
    }
   },
   "id": "94fc38de323a234b",
   "execution_count": 11
  },
  {
   "cell_type": "markdown",
   "source": [
    "# Plot the Power Spectra"
   ],
   "metadata": {
    "collapsed": false
   },
   "id": "800e37a974bd6206"
  },
  {
   "cell_type": "code",
   "outputs": [
    {
     "ename": "NameError",
     "evalue": "name 'pk_data' is not defined",
     "output_type": "error",
     "traceback": [
      "\u001B[0;31m---------------------------------------------------------------------------\u001B[0m",
      "\u001B[0;31mNameError\u001B[0m                                 Traceback (most recent call last)",
      "Cell \u001B[0;32mIn[10], line 10\u001B[0m\n\u001B[1;32m      2\u001B[0m labels \u001B[38;5;241m=\u001B[39m [\n\u001B[1;32m      3\u001B[0m     \u001B[38;5;124m\"\u001B[39m\u001B[38;5;124m$P(k)^\u001B[39m\u001B[38;5;124m\\\u001B[39m\u001B[38;5;124mmathrm\u001B[39m\u001B[38;5;124m{\u001B[39m\u001B[38;5;124mDM \u001B[39m\u001B[38;5;124m\\\u001B[39m\u001B[38;5;124m; only}$\u001B[39m\u001B[38;5;124m\"\u001B[39m,\n\u001B[1;32m      4\u001B[0m     \u001B[38;5;124m\"\u001B[39m\u001B[38;5;124m$P(k)^\u001B[39m\u001B[38;5;124m\\\u001B[39m\u001B[38;5;124mmathrm\u001B[39m\u001B[38;5;124m{\u001B[39m\u001B[38;5;124mMead 20}$\u001B[39m\u001B[38;5;124m\"\u001B[39m,\n\u001B[0;32m   (...)\u001B[0m\n\u001B[1;32m      7\u001B[0m     \u001B[38;5;124m\"\u001B[39m\u001B[38;5;124m$P(k)^\u001B[39m\u001B[38;5;124m\\\u001B[39m\u001B[38;5;124mmathrm\u001B[39m\u001B[38;5;124m{\u001B[39m\u001B[38;5;124mVan Daalen 19}$\u001B[39m\u001B[38;5;124m\"\u001B[39m\n\u001B[1;32m      8\u001B[0m ]\n\u001B[1;32m      9\u001B[0m \u001B[38;5;66;03m# Take 5 colors from rainforest in [0.15, 0.85] range in HEX\u001B[39;00m\n\u001B[0;32m---> 10\u001B[0m data_len \u001B[38;5;241m=\u001B[39m \u001B[38;5;28mlen\u001B[39m(\u001B[43mpk_data\u001B[49m)\n\u001B[1;32m     11\u001B[0m colors \u001B[38;5;241m=\u001B[39m get_colors(data_len)\n\u001B[1;32m     12\u001B[0m lw\u001B[38;5;241m=\u001B[39m\u001B[38;5;241m3\u001B[39m\n",
      "\u001B[0;31mNameError\u001B[0m: name 'pk_data' is not defined"
     ]
    }
   ],
   "source": [
    "# List of pk data and their labels\n",
    "labels = [\n",
    "    \"$P(k)^\\mathrm{DM \\; only}$\",\n",
    "    \"$P(k)^\\mathrm{Mead 20}$\",\n",
    "    \"$P(k)^\\mathrm{Schneider 15}$\",\n",
    "    \"$P(k)^\\mathrm{Aricò 21}$\",\n",
    "    \"$P(k)^\\mathrm{Van Daalen 19}$\"\n",
    "]\n",
    "# Take 5 colors from rainforest in [0.15, 0.85] range in HEX\n",
    "data_len = len(pk_data)\n",
    "colors = get_colors(data_len)\n",
    "lw=3\n",
    "\n",
    "# Set the figure size\n",
    "plt.figure(figsize=(7, 5))\n",
    "# Add the reference line for pk_nonlin / pk_nonlin = 1\n",
    "plt.semilogx(k, [1]*len(k), c=\"darkgray\", lw=2)  # Using darkgray color for the reference line\n",
    "\n",
    "# Loop over the pk data and colors to plot them\n",
    "for (pk, label), color in zip(pk_data, colors):\n",
    "    plt.semilogx(k, pk, c=color, label=label, lw=lw)\n",
    "\n",
    "# Setting the properties for ticks, labels, and legend\n",
    "plt.gca().tick_params(direction='in', which='both')  \n",
    "plt.xlabel(\"$k \\: \\: \\mathrm{[Mpc^{-1}]}$\", fontsize=15)\n",
    "plt.ylabel(\"$F (k)$\", fontsize=15)\n",
    "\n",
    "# Change y-axis labels to standard notation\n",
    "plt.gca().yaxis.set_major_formatter(ScalarFormatter(useOffset=False))\n",
    "\n",
    "plt.legend(frameon=False, fontsize=15)\n",
    "plt.show()"
   ],
   "metadata": {
    "collapsed": false,
    "ExecuteTime": {
     "end_time": "2024-01-25T14:51:53.063468Z",
     "start_time": "2024-01-25T14:51:51.376599Z"
    }
   },
   "id": "88de6802070cbf12",
   "execution_count": 10
  }
 ],
 "metadata": {
  "kernelspec": {
   "display_name": "Python 3",
   "language": "python",
   "name": "python3"
  },
  "language_info": {
   "codemirror_mode": {
    "name": "ipython",
    "version": 2
   },
   "file_extension": ".py",
   "mimetype": "text/x-python",
   "name": "python",
   "nbconvert_exporter": "python",
   "pygments_lexer": "ipython2",
   "version": "2.7.6"
  }
 },
 "nbformat": 4,
 "nbformat_minor": 5
}
