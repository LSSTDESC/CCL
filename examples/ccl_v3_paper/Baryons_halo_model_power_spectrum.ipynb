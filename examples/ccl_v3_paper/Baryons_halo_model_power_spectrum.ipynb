{
 "cells": [
  {
   "cell_type": "markdown",
   "id": "f45337c1",
   "metadata": {
    "id": "f45337c1"
   },
   "source": [
    "# Baryonic halo model \n",
    "\n",
    "In this example, we illustrate how to build a baryonic halo model in CCL. We follow mostly the equations in Fedeli (2014), arXiv:1401.2997, with some small modifications."
   ]
  },
  {
   "cell_type": "code",
   "execution_count": 1,
   "id": "35e32a88",
   "metadata": {
    "id": "35e32a88",
    "ExecuteTime": {
     "end_time": "2024-02-20T18:51:02.319255Z",
     "start_time": "2024-02-20T18:50:41.873546Z"
    }
   },
   "outputs": [
    {
     "name": "stdout",
     "output_type": "stream",
     "text": [
      "3.0.0\n"
     ]
    }
   ],
   "source": [
    "import numpy as np\n",
    "import pyccl as ccl\n",
    "import pylab as plt\n",
    "import matplotlib.cm as cm\n",
    "from scipy.special import erf\n",
    "from scipy import integrate\n",
    "from scipy import interpolate\n",
    "from functools import partial\n",
    "print(ccl.__version__)"
   ]
  },
  {
   "cell_type": "markdown",
   "id": "00b84b32",
   "metadata": {
    "id": "00b84b32"
   },
   "source": [
    "## Preliminaries\n",
    "\n",
    "Generate a cosmology and a vector with wavenumbers. We will work only at $z=0$ for this example."
   ]
  },
  {
   "cell_type": "code",
   "execution_count": 2,
   "id": "fcc34041",
   "metadata": {
    "id": "fcc34041",
    "ExecuteTime": {
     "end_time": "2024-02-20T18:51:02.324187Z",
     "start_time": "2024-02-20T18:51:02.320332Z"
    }
   },
   "outputs": [],
   "source": [
    "# Cosmology\n",
    "#cosmo = ccl.Cosmology(Omega_c=0.196, Omega_b=0.042, h=0.73, sigma8=0.74, n_s=0.951)\n",
    "\n",
    "# Wavenumbers \n",
    "#k_arr = np.geomspace(1E-2,1E2,256)\n",
    "\n",
    "# Scale factor\n",
    "#a_sf=1\n",
    "\n",
    "cosmo = ccl.CosmologyVanillaLCDM()  # cosmology object\n",
    "k_arr = np.logspace(-3, 1, 100)  # wavenumber\n",
    "a = 1.  # scale factor a z=0"
   ]
  },
  {
   "cell_type": "markdown",
   "id": "f501c5cd",
   "metadata": {
    "id": "f501c5cd"
   },
   "source": [
    "Let us also initialize a series of halo model quantities. We will need:\n",
    "\n",
    "- A halo mass definition.\n",
    "- A concentration-mass relation.\n",
    "- A halo mass function parametrization.\n",
    "- A halo bias parametrization.\n",
    "- Halo density profiles (for the dark matter part of the model)."
   ]
  },
  {
   "cell_type": "code",
   "execution_count": 3,
   "id": "fdaf3191",
   "metadata": {
    "id": "fdaf3191",
    "ExecuteTime": {
     "end_time": "2024-02-20T18:51:02.334028Z",
     "start_time": "2024-02-20T18:51:02.328246Z"
    }
   },
   "outputs": [],
   "source": [
    "# We will use a mass definition with Delta = 200 times the matter density\n",
    "hmd_200m = ccl.halos.MassDef(200, 'matter')\n",
    "# The Tinker 2008 mass function\n",
    "hmf_200m = ccl.halos.MassFuncTinker08(mass_def=hmd_200m, mass_def_strict=False)\n",
    "# The Tinker 2010 halo bias\n",
    "hbf = ccl.halos.HaloBiasTinker10(mass_def=hmd_200m, mass_def_strict=False)\n",
    "# The Duffy 2008 concentration-mass relation\n",
    "cM = ccl.halos.ConcentrationDuffy08(mass_def=hmd_200m)\n",
    "# The NFW profile to characterize the matter density around halos\n",
    "pM = ccl.halos.HaloProfileNFW(mass_def=hmd_200m, concentration=cM)\n",
    "hmc = ccl.halos.HMCalculator(mass_function=hmf_200m, halo_bias=hbf,mass_def=hmd_200m)"
   ]
  },
  {
   "cell_type": "markdown",
   "id": "fe2846df",
   "metadata": {
    "id": "fe2846df"
   },
   "source": [
    "The baryonic halo model consists of three ingredients: gas, stars and dark matter. The contribution of each ingredient is weighted by their energy density at $z=0$, which are given by"
   ]
  },
  {
   "cell_type": "code",
   "execution_count": 4,
   "id": "a070f05f",
   "metadata": {
    "id": "a070f05f",
    "ExecuteTime": {
     "end_time": "2024-02-20T18:51:02.339548Z",
     "start_time": "2024-02-20T18:51:02.335237Z"
    }
   },
   "outputs": [],
   "source": [
    "# Define some useful densities\n",
    "rho_star = 7E8*cosmo['h']**2\n",
    "rho_m = cosmo['Omega_m']*ccl.physical_constants.RHO_CRITICAL*cosmo['h']**2\n",
    "rho_DM = cosmo['Omega_c']*ccl.physical_constants.RHO_CRITICAL*cosmo['h']**2\n",
    "rho_g = rho_m - rho_star - rho_DM"
   ]
  },
  {
   "cell_type": "markdown",
   "id": "f656c54e",
   "metadata": {
    "id": "f656c54e"
   },
   "source": [
    "We are now going to define some useful constants that we will need later."
   ]
  },
  {
   "cell_type": "code",
   "execution_count": 5,
   "id": "96221cf1",
   "metadata": {
    "id": "96221cf1",
    "ExecuteTime": {
     "end_time": "2024-02-20T18:51:02.393255Z",
     "start_time": "2024-02-20T18:51:02.337770Z"
    }
   },
   "outputs": [],
   "source": [
    "#For the stellar mass fraction within halos\n",
    "m_0s = 5E12/cosmo['h']\n",
    "sigmas = 1.2\n",
    "\n",
    "#For the stellar profile\n",
    "x_deltas = 1/0.03\n",
    "\n",
    "#For the gas mass fraction within halos\n",
    "m_0g = 1E12/cosmo['h']\n",
    "sigmag = 3\n",
    "\n",
    "#For the gas profile\n",
    "beta = 2.9\n",
    "\n",
    "#Parameters that inform the power spectrum of the gas,\n",
    "#specifically the extended component.\n",
    "Fg = 0.05 #this is an example, it should be <<1\n",
    "bd = 0.85 #from Fedeli\n",
    "\n",
    "# A reference halo mass that will be used later\n",
    "mhalo = 1E14/cosmo['h']"
   ]
  },
  {
   "cell_type": "markdown",
   "id": "9d98aa76",
   "metadata": {
    "id": "9d98aa76"
   },
   "source": [
    "To compute halo model ingredients of the power spectrum, we will need to integrate over the masses of the contributing halos. These will be slightly different for stars, DM and gas. Here we define them:"
   ]
  },
  {
   "cell_type": "code",
   "execution_count": 6,
   "id": "99448733",
   "metadata": {
    "id": "99448733",
    "ExecuteTime": {
     "end_time": "2024-02-20T18:51:05.239710Z",
     "start_time": "2024-02-20T18:51:05.212836Z"
    }
   },
   "outputs": [],
   "source": [
    "# Array of masses\n",
    "mmin_DM=1E6\n",
    "mmax_DM=1E16\n",
    "mmin_gas=m_0g\n",
    "mmax_gas=mmax_DM\n",
    "mmin_stars=1E10\n",
    "mmax_stars=1E15\n",
    "m_arr = np.geomspace(mmin_DM,mmax_DM,128)"
   ]
  },
  {
   "cell_type": "markdown",
   "id": "b4e33a75",
   "metadata": {
    "id": "b4e33a75"
   },
   "source": [
    "## Stellar component\n",
    "\n",
    "First we will compute the stellar mass fraction.\n",
    "\n",
    "$f_*(m)=A\\exp(-\\frac{\\log_{10}^2(m/m_{0s})}{2\\sigma_s^2})$\n",
    "\n",
    "We fix $A$ by requiring that $\\bar{\\rho}_*$ have a particular value.\n",
    "\n",
    "$\\bar{\\rho}_*=\\int_0^∞dmmf_*(m)n(m)$\n",
    "\n",
    "where $n(m)$ is the halo mass function."
   ]
  },
  {
   "cell_type": "code",
   "execution_count": 7,
   "id": "97852bde",
   "metadata": {
    "id": "97852bde",
    "outputId": "7e277025-83cc-4893-8ddc-13a10a93a402",
    "ExecuteTime": {
     "end_time": "2024-02-20T18:51:08.385226Z",
     "start_time": "2024-02-20T18:51:06.420918Z"
    }
   },
   "outputs": [
    {
     "data": {
      "text/plain": "<Figure size 640x480 with 1 Axes>",
      "image/png": "[encoded data removed]"
     },
     "metadata": {},
     "output_type": "display_data"
    }
   ],
   "source": [
    "#This computes the normalization of the stellar mass fraction\n",
    "def f_star_integrand(m):\n",
    "    mf = hmf_200m(cosmo,m,a)/(m*np.log(10))\n",
    "    return m*np.exp(-(np.log10(m/m_0s))**2/(2*sigmas**2))*mf\n",
    "def f_star_norm():\n",
    "    return integrate.quad(f_star_integrand,mmin_stars,mmax_stars,epsabs=0,epsrel=1E-3,limit=5000)[0]\n",
    "\n",
    "#Stellar mass fraction\n",
    "A = rho_star/f_star_norm()\n",
    "def f_star(m):\n",
    "    return A*np.exp(-(np.log10(m/m_0s))**2/(2*sigmas**2))\n",
    "\n",
    "plt.figure()\n",
    "plt.plot(m_arr*cosmo['h'], f_star(m_arr), 'b-')\n",
    "plt.xlabel(r'$M [M_\\odot/h]$',fontsize=22)\n",
    "plt.ylabel(r'$f_\\star(M)$',fontsize=22)\n",
    "plt.xscale('log')\n",
    "plt.yscale('log')\n",
    "plt.show()"
   ]
  },
  {
   "cell_type": "markdown",
   "id": "f6e82060",
   "metadata": {
    "id": "f6e82060"
   },
   "source": [
    "Next, we define the shape of the stellar profiles and we make a class out of them, so we can then pass them on to the power spectrum method. \n",
    "\n",
    "$\\rho_*(x|m)=\\frac{\\rho_t}{x}\\exp(-x^\\alpha)$, with $x:=r/r_t$.\n",
    "\n",
    "An additional constraint on $\\rho_t$ comes from requiring that the mass fraction overall is equal to the mass fraction within a halo."
   ]
  },
  {
   "cell_type": "code",
   "execution_count": 8,
   "id": "9ed2a961",
   "metadata": {
    "id": "9ed2a961",
    "ExecuteTime": {
     "end_time": "2024-02-20T18:51:08.395917Z",
     "start_time": "2024-02-20T18:51:08.390624Z"
    }
   },
   "outputs": [],
   "source": [
    "#Stellar profile\n",
    "class HaloProfileStars(ccl.halos.HaloProfile):\n",
    "    def __init__(self, mass_def):\n",
    "        super(HaloProfileStars, self).__init__(mass_def=mass_def)\n",
    "\n",
    "    def _rs(self, cosmo, M, a):\n",
    "        return self.mass_def.get_radius(cosmo, M, a) / a\n",
    "\n",
    "    def _real(self, cosmo, r, M, a):\n",
    "        # Generate 2D array by default\n",
    "        r_use = np.atleast_1d(r)\n",
    "        M_use = np.atleast_1d(M)\n",
    "\n",
    "        # Compute profile\n",
    "        r_delta = self._rs(cosmo, M_use, a)\n",
    "        r_t = r_delta/x_deltas\n",
    "        x = r_use/r_t[:, None]\n",
    "        rhot = M_use*f_star(M_use)/(4* np.pi * r_t**3)\n",
    "        prof = rhot[:,None] * np.exp(-x)/x   \n",
    "\n",
    "        # Make sure the output has the right shape\n",
    "        if np.ndim(r) == 0:\n",
    "            prof = np.squeeze(prof, axis=-1)\n",
    "        if np.ndim(M) == 0:\n",
    "            prof = np.squeeze(prof, axis=0)\n",
    "        return prof\n",
    "\n",
    "ps = HaloProfileStars(mass_def=hmd_200m)\n",
    "ps.update_precision_fftlog(padding_hi_fftlog=1E3,\n",
    "                           padding_lo_fftlog=1E-3,\n",
    "                           n_per_decade=1000,\n",
    "                           plaw_fourier=-2.)"
   ]
  },
  {
   "cell_type": "markdown",
   "id": "784b33f2",
   "metadata": {
    "id": "784b33f2"
   },
   "source": [
    "## Gas component\n",
    "\n",
    "We now turn to the gas, again defining the gas fraction in each halo approximately as:\n",
    "\n",
    "$f_g(m)=\\frac{\\Omega_b}{\\Omega_m}\\text{erf}\\left[\\frac{\\log_{10}(m/m_{0g})}{\\sigma_g}\\right]$"
   ]
  },
  {
   "cell_type": "code",
   "execution_count": 9,
   "id": "a262706c",
   "metadata": {
    "id": "a262706c",
    "outputId": "d41999d4-bc07-47a1-b31c-37ee9f26057d",
    "ExecuteTime": {
     "end_time": "2024-02-20T18:51:08.661741Z",
     "start_time": "2024-02-20T18:51:08.403046Z"
    }
   },
   "outputs": [
    {
     "data": {
      "text/plain": "<Figure size 640x480 with 1 Axes>",
      "image/png": "[encoded data removed]"
     },
     "metadata": {},
     "output_type": "display_data"
    }
   ],
   "source": [
    "def f_gas(m):\n",
    "    fgas = []\n",
    "    for i in m:\n",
    "        if i<m_0g:\n",
    "            fgas.append(0.)\n",
    "        else:\n",
    "            fgas.append((cosmo['Omega_b']/cosmo['Omega_m'])*erf(np.log10(i/m_0g)/sigmag))\n",
    "    return fgas\n",
    "\n",
    "plt.figure()\n",
    "plt.plot(m_arr*cosmo['h'],f_gas(m_arr), 'b-')\n",
    "plt.xscale('log')\n",
    "plt.yscale('log')\n",
    "plt.xlabel(r'$M$ $[$M$_\\odot/h]$',fontsize=22)\n",
    "plt.ylabel(r'$f_{\\rm gas}(M)$',fontsize=22)\n",
    "plt.show()"
   ]
  },
  {
   "cell_type": "markdown",
   "id": "fe2217aa",
   "metadata": {
    "id": "fe2217aa"
   },
   "source": [
    "We now define a class that describes the profiles for the bound gas. Note we use a slightly different gas profile to Fedeli (2014):\n",
    "\n",
    "$\\rho_g(r)=\\frac{\\rho_{g,0}}{(1+u)^\\beta(1+v^2)^{(7-\\beta)/2}}$, with $u:=r/r_{co}$ and $v:=r/r_{ej}$."
   ]
  },
  {
   "cell_type": "code",
   "execution_count": 10,
   "id": "db0fa590",
   "metadata": {
    "id": "db0fa590",
    "ExecuteTime": {
     "end_time": "2024-02-20T18:51:09.596557Z",
     "start_time": "2024-02-20T18:51:09.577776Z"
    }
   },
   "outputs": [],
   "source": [
    "class HaloProfileGas(ccl.halos.HaloProfile):\n",
    "    def __init__(self,mass_def):\n",
    "        super(HaloProfileGas, self).__init__(mass_def=mass_def)\n",
    "        \n",
    "    #scale radius\n",
    "    def _rs(self, cosmo, M, a):\n",
    "        return self.mass_def.get_radius(cosmo, M, a) / a \n",
    "\n",
    "    def _rint(self, M, Rd, r):\n",
    "        r_co = 0.1*Rd\n",
    "        r_ej = 4.5*Rd #just placeholder value\n",
    "        return r**2/((1+r/r_co)**beta*(1+(r/r_ej)**2)**((7-beta)/2))\n",
    "\n",
    "    def _norm(self,M,Rd):\n",
    "        nn = f_gas(M)*M/(4*np.pi*np.array([integrate.romberg(partial(self._rint, mm, rd),\n",
    "                                                             1E-3,50,tol=0,rtol=1E-1,divmax=5000)\n",
    "                                           for mm, rd in zip(M, Rd)]))\n",
    "        return nn\n",
    "\n",
    "    def _real(self, cosmo, r, M, a):\n",
    "        # Generate 2D array by default\n",
    "        r_use = np.atleast_1d(r)\n",
    "        M_use = np.atleast_1d(M)\n",
    "\n",
    "        # Compute profile\n",
    "        r_delta = self._rs(cosmo, M_use, a)\n",
    "        r_co = 0.1*r_delta\n",
    "        r_ej = 4.5*r_delta\n",
    "\n",
    "        prof = 1/((1+r_use[None,:]/r_co[:,None])**beta*(1+(r_use[None,:]/r_ej[:,None])**2)**((7-beta)/2))\n",
    "        norm = self._norm(M_use,r_delta)\n",
    "        prof = prof[:,:]*norm[:,None]\n",
    "\n",
    "        # Make sure the output has the right shape\n",
    "        if np.ndim(r) == 0:\n",
    "            prof = np.squeeze(prof, axis=-1)\n",
    "        if np.ndim(M) == 0:\n",
    "            prof = np.squeeze(prof, axis=0)\n",
    "        return prof\n",
    "\n",
    "pg = HaloProfileGas(mass_def=hmd_200m)\n",
    "pg.update_precision_fftlog(padding_hi_fftlog=1E3,padding_lo_fftlog=1E-3,\n",
    "                           n_per_decade=1000,plaw_fourier=-2.)"
   ]
  },
  {
   "cell_type": "markdown",
   "id": "be64b0b2",
   "metadata": {
    "id": "be64b0b2"
   },
   "source": [
    "## Interpolation of profiles\n",
    "\n",
    "It takes a while to evaluate the profiles. For this reason, we are going to interpolate them so we can use them later."
   ]
  },
  {
   "cell_type": "code",
   "execution_count": 11,
   "id": "11b140eb",
   "metadata": {
    "id": "11b140eb",
    "outputId": "89202947-1ef8-423f-edc6-88268325de4d",
    "ExecuteTime": {
     "end_time": "2024-02-20T18:51:10.341633Z",
     "start_time": "2024-02-20T18:51:10.274213Z"
    }
   },
   "outputs": [
    {
     "name": "stdout",
     "output_type": "stream",
     "text": [
      "DM profiles interpolated...\n",
      "\n",
      "Gas profiles interpolated...\n",
      "\n",
      "Star profiles interpolated...\n"
     ]
    },
    {
     "name": "stderr",
     "output_type": "stream",
     "text": [
      "/var/folders/0x/z32gfbyx2ls71tblrjjbdh0w0000gn/T/ipykernel_1306/570605621.py:12: DeprecationWarning: `interp2d` is deprecated!\n",
      "`interp2d` is deprecated in SciPy 1.10 and will be removed in SciPy 1.13.0.\n",
      "\n",
      "For legacy code, nearly bug-for-bug compatible replacements are\n",
      "`RectBivariateSpline` on regular grids, and `bisplrep`/`bisplev` for\n",
      "scattered 2D data.\n",
      "\n",
      "In new code, for regular grids use `RegularGridInterpolator` instead.\n",
      "For scattered data, prefer `LinearNDInterpolator` or\n",
      "`CloughTocher2DInterpolator`.\n",
      "\n",
      "For more details see\n",
      "`https://scipy.github.io/devdocs/notebooks/interp_transition_guide.html`\n",
      "\n",
      "  fDM = interpolate.interp2d(M,K,np.transpose(yDM))\n",
      "/var/folders/0x/z32gfbyx2ls71tblrjjbdh0w0000gn/T/ipykernel_1306/570605621.py:25: DeprecationWarning: `interp2d` is deprecated!\n",
      "`interp2d` is deprecated in SciPy 1.10 and will be removed in SciPy 1.13.0.\n",
      "\n",
      "For legacy code, nearly bug-for-bug compatible replacements are\n",
      "`RectBivariateSpline` on regular grids, and `bisplrep`/`bisplev` for\n",
      "scattered 2D data.\n",
      "\n",
      "In new code, for regular grids use `RegularGridInterpolator` instead.\n",
      "For scattered data, prefer `LinearNDInterpolator` or\n",
      "`CloughTocher2DInterpolator`.\n",
      "\n",
      "For more details see\n",
      "`https://scipy.github.io/devdocs/notebooks/interp_transition_guide.html`\n",
      "\n",
      "  f = interpolate.interp2d(M,K,np.transpose(yg))\n",
      "/var/folders/0x/z32gfbyx2ls71tblrjjbdh0w0000gn/T/ipykernel_1306/570605621.py:35: DeprecationWarning: `interp2d` is deprecated!\n",
      "`interp2d` is deprecated in SciPy 1.10 and will be removed in SciPy 1.13.0.\n",
      "\n",
      "For legacy code, nearly bug-for-bug compatible replacements are\n",
      "`RectBivariateSpline` on regular grids, and `bisplrep`/`bisplev` for\n",
      "scattered 2D data.\n",
      "\n",
      "In new code, for regular grids use `RegularGridInterpolator` instead.\n",
      "For scattered data, prefer `LinearNDInterpolator` or\n",
      "`CloughTocher2DInterpolator`.\n",
      "\n",
      "For more details see\n",
      "`https://scipy.github.io/devdocs/notebooks/interp_transition_guide.html`\n",
      "\n",
      "  fs = interpolate.interp2d(M,K,np.transpose(ys))\n"
     ]
    }
   ],
   "source": [
    "#Interpolate the profiles for speed\n",
    "\n",
    "M = np.logspace(np.log10(mmin_DM),np.log10(mmax_DM),num=20)\n",
    "yDM=np.zeros((20,500))\n",
    "M2D = np.zeros((20,500))\n",
    "for i in range(0,500):\n",
    "    M2D[:,i]=M\n",
    "K = np.linspace(1E-2,1E2,num=500)\n",
    "for j in range(0,20):\n",
    "    yDM[j,:]=pM.fourier(cosmo, K,M[j], a)/M[j]\n",
    "\n",
    "fDM = interpolate.interp2d(M,K,np.transpose(yDM))\n",
    "\n",
    "print(\"DM profiles interpolated...\\n\")\n",
    "\n",
    "M = np.logspace(np.log10(mmin_gas),np.log10(mmax_gas),num=10)\n",
    "yg=np.zeros((10,500))\n",
    "M2D = np.zeros((10,500))\n",
    "for i in range(0,500):\n",
    "    M2D[:,i]=M\n",
    "K = np.linspace(1E-2,1E2,num=500)\n",
    "for j in range(0,10):\n",
    "    yg[j,:]=pg.fourier(cosmo, K,M[j], a)/M[j]\n",
    "    \n",
    "f = interpolate.interp2d(M,K,np.transpose(yg))\n",
    "\n",
    "print(\"Gas profiles interpolated...\\n\")\n",
    "\n",
    "M = np.logspace(np.log10(mmin_stars),np.log10(mmax_stars),num=10)\n",
    "M2D = np.zeros((len(M),50))\n",
    "for i in range(0,50):\n",
    "    M2D[:,i]=M\n",
    "K = np.linspace(1E-2,1E2,num=50)\n",
    "ys=ps.fourier(cosmo, K,M, a)/M2D\n",
    "fs = interpolate.interp2d(M,K,np.transpose(ys))\n",
    "\n",
    "print(\"Star profiles interpolated...\\n\")"
   ]
  },
  {
   "cell_type": "markdown",
   "id": "25c52c3f",
   "metadata": {
    "id": "25c52c3f"
   },
   "source": [
    "## Calculation of power spectra"
   ]
  },
  {
   "cell_type": "markdown",
   "id": "dtzNYWciqSVH",
   "metadata": {
    "id": "dtzNYWciqSVH"
   },
   "source": [
    "We define some generic integrals that are needed for the one halo and two halo power spectra of the different components of the model:\n",
    "\n",
    "$I_{2p}=\\int_0^\\infty dm n(m) m^2y_1(k)y_2(k)$\n",
    "\n",
    "$I_{bp}=\\int_0^\\infty dm n(m) b(m) my(k)$"
   ]
  },
  {
   "cell_type": "code",
   "execution_count": 12,
   "id": "19dea2c8",
   "metadata": {
    "id": "19dea2c8",
    "ExecuteTime": {
     "end_time": "2024-02-20T18:51:11.158458Z",
     "start_time": "2024-02-20T18:51:11.151630Z"
    }
   },
   "outputs": [],
   "source": [
    "# Halo Mass Calculator (for DM)\n",
    "hmc = ccl.halos.HMCalculator(mass_function=hmf_200m, halo_bias=hbf, mass_def=hmd_200m)\n",
    "\n",
    "# Non-linear matter power spectrum, for comparison\n",
    "pk_nl = ccl.nonlin_matter_power(cosmo, k_arr, a)\n",
    "\n",
    "#Generic integrals we need\n",
    "#(of the form 5.x in Fedeli (2014))\n",
    "def integrandGEN2p(m,k,prof1,prof2):\n",
    "    dndlog10m = hmf_200m(cosmo, m, a)\n",
    "    dndm=dndlog10m/(m*np.log(10.))\n",
    "    y1=prof1(m,k)\n",
    "    y2 =prof2(m,k)\n",
    "    return dndm*m**2*y1*y2\n",
    "def integratedGEN2p(mmin,mmax,k,p1,p2):\n",
    "    return integrate.quad(integrandGEN2p, mmin, mmax, args=(k,p1,p2),epsabs=0,epsrel=1E-3,limit=5000)[0]\n",
    "def integrandGENbp(m,k,prof1):\n",
    "    bm = hbf(cosmo,m,a)\n",
    "    dndlog10m = hmf_200m(cosmo, m, a)\n",
    "    dndm=dndlog10m/(m*np.log(10.))\n",
    "    y=prof1(m,k)\n",
    "    return dndm*m*bm*y\n",
    "def integratedGENbp(mmin,mmax,k,p1):\n",
    "    return integrate.quad(integrandGENbp, mmin, mmax, args=(k,p1),epsabs=0,epsrel=1E-3,limit=5000)[0]"
   ]
  },
  {
   "cell_type": "markdown",
   "id": "4f51d8e0",
   "metadata": {
    "id": "4f51d8e0"
   },
   "source": [
    "We start with the dark matter:"
   ]
  },
  {
   "cell_type": "code",
   "execution_count": 13,
   "id": "3c2da1a2",
   "metadata": {
    "id": "3c2da1a2",
    "ExecuteTime": {
     "end_time": "2024-02-20T18:51:41.400904Z",
     "start_time": "2024-02-20T18:51:11.542653Z"
    }
   },
   "outputs": [
    {
     "name": "stderr",
     "output_type": "stream",
     "text": [
      "/var/folders/0x/z32gfbyx2ls71tblrjjbdh0w0000gn/T/ipykernel_1306/1967191071.py:12: DeprecationWarning:         `interp2d` is deprecated!\n",
      "        `interp2d` is deprecated in SciPy 1.10 and will be removed in SciPy 1.13.0.\n",
      "\n",
      "        For legacy code, nearly bug-for-bug compatible replacements are\n",
      "        `RectBivariateSpline` on regular grids, and `bisplrep`/`bisplev` for\n",
      "        scattered 2D data.\n",
      "\n",
      "        In new code, for regular grids use `RegularGridInterpolator` instead.\n",
      "        For scattered data, prefer `LinearNDInterpolator` or\n",
      "        `CloughTocher2DInterpolator`.\n",
      "\n",
      "        For more details see\n",
      "        `https://scipy.github.io/devdocs/notebooks/interp_transition_guide.html`\n",
      "\n",
      "  y1=prof1(m,k)\n",
      "/var/folders/0x/z32gfbyx2ls71tblrjjbdh0w0000gn/T/ipykernel_1306/1967191071.py:13: DeprecationWarning:         `interp2d` is deprecated!\n",
      "        `interp2d` is deprecated in SciPy 1.10 and will be removed in SciPy 1.13.0.\n",
      "\n",
      "        For legacy code, nearly bug-for-bug compatible replacements are\n",
      "        `RectBivariateSpline` on regular grids, and `bisplrep`/`bisplev` for\n",
      "        scattered 2D data.\n",
      "\n",
      "        In new code, for regular grids use `RegularGridInterpolator` instead.\n",
      "        For scattered data, prefer `LinearNDInterpolator` or\n",
      "        `CloughTocher2DInterpolator`.\n",
      "\n",
      "        For more details see\n",
      "        `https://scipy.github.io/devdocs/notebooks/interp_transition_guide.html`\n",
      "\n",
      "  y2 =prof2(m,k)\n",
      "/var/folders/0x/z32gfbyx2ls71tblrjjbdh0w0000gn/T/ipykernel_1306/1967191071.py:21: DeprecationWarning:         `interp2d` is deprecated!\n",
      "        `interp2d` is deprecated in SciPy 1.10 and will be removed in SciPy 1.13.0.\n",
      "\n",
      "        For legacy code, nearly bug-for-bug compatible replacements are\n",
      "        `RectBivariateSpline` on regular grids, and `bisplrep`/`bisplev` for\n",
      "        scattered 2D data.\n",
      "\n",
      "        In new code, for regular grids use `RegularGridInterpolator` instead.\n",
      "        For scattered data, prefer `LinearNDInterpolator` or\n",
      "        `CloughTocher2DInterpolator`.\n",
      "\n",
      "        For more details see\n",
      "        `https://scipy.github.io/devdocs/notebooks/interp_transition_guide.html`\n",
      "\n",
      "  y=prof1(m,k)\n"
     ]
    }
   ],
   "source": [
    "#Dark matter auto-spectra\n",
    "\n",
    "def PDM2h(k):\n",
    "    return ccl.linear_matter_power(cosmo, k, a)/rho_DM**2*integratedGENbp(mmin_DM,mmax_DM,k,fDM)**2\n",
    "\n",
    "def PDM1h(k):\n",
    "    return 1/rho_DM**2*integratedGEN2p(mmin_DM, mmax_DM, k, fDM, fDM)\n",
    "\n",
    "PDM1h_arr=np.zeros(len(k_arr))\n",
    "PDM2h_arr=np.zeros(len(k_arr))\n",
    "for i in range(0, len(k_arr)):\n",
    "    PDM1h_arr[i]=PDM1h(k_arr[i])\n",
    "    PDM2h_arr[i]=PDM2h(k_arr[i])"
   ]
  },
  {
   "cell_type": "markdown",
   "id": "b638986c",
   "metadata": {},
   "source": [
    "Then the gas:"
   ]
  },
  {
   "cell_type": "code",
   "execution_count": 14,
   "id": "017fc784",
   "metadata": {
    "id": "017fc784",
    "ExecuteTime": {
     "end_time": "2024-02-20T18:52:08.114769Z",
     "start_time": "2024-02-20T18:51:41.413615Z"
    }
   },
   "outputs": [
    {
     "name": "stderr",
     "output_type": "stream",
     "text": [
      "/var/folders/0x/z32gfbyx2ls71tblrjjbdh0w0000gn/T/ipykernel_1306/1967191071.py:21: DeprecationWarning:         `interp2d` is deprecated!\n",
      "        `interp2d` is deprecated in SciPy 1.10 and will be removed in SciPy 1.13.0.\n",
      "\n",
      "        For legacy code, nearly bug-for-bug compatible replacements are\n",
      "        `RectBivariateSpline` on regular grids, and `bisplrep`/`bisplev` for\n",
      "        scattered 2D data.\n",
      "\n",
      "        In new code, for regular grids use `RegularGridInterpolator` instead.\n",
      "        For scattered data, prefer `LinearNDInterpolator` or\n",
      "        `CloughTocher2DInterpolator`.\n",
      "\n",
      "        For more details see\n",
      "        `https://scipy.github.io/devdocs/notebooks/interp_transition_guide.html`\n",
      "\n",
      "  y=prof1(m,k)\n",
      "/var/folders/0x/z32gfbyx2ls71tblrjjbdh0w0000gn/T/ipykernel_1306/1967191071.py:12: DeprecationWarning:         `interp2d` is deprecated!\n",
      "        `interp2d` is deprecated in SciPy 1.10 and will be removed in SciPy 1.13.0.\n",
      "\n",
      "        For legacy code, nearly bug-for-bug compatible replacements are\n",
      "        `RectBivariateSpline` on regular grids, and `bisplrep`/`bisplev` for\n",
      "        scattered 2D data.\n",
      "\n",
      "        In new code, for regular grids use `RegularGridInterpolator` instead.\n",
      "        For scattered data, prefer `LinearNDInterpolator` or\n",
      "        `CloughTocher2DInterpolator`.\n",
      "\n",
      "        For more details see\n",
      "        `https://scipy.github.io/devdocs/notebooks/interp_transition_guide.html`\n",
      "\n",
      "  y1=prof1(m,k)\n",
      "/var/folders/0x/z32gfbyx2ls71tblrjjbdh0w0000gn/T/ipykernel_1306/1967191071.py:13: DeprecationWarning:         `interp2d` is deprecated!\n",
      "        `interp2d` is deprecated in SciPy 1.10 and will be removed in SciPy 1.13.0.\n",
      "\n",
      "        For legacy code, nearly bug-for-bug compatible replacements are\n",
      "        `RectBivariateSpline` on regular grids, and `bisplrep`/`bisplev` for\n",
      "        scattered 2D data.\n",
      "\n",
      "        In new code, for regular grids use `RegularGridInterpolator` instead.\n",
      "        For scattered data, prefer `LinearNDInterpolator` or\n",
      "        `CloughTocher2DInterpolator`.\n",
      "\n",
      "        For more details see\n",
      "        `https://scipy.github.io/devdocs/notebooks/interp_transition_guide.html`\n",
      "\n",
      "  y2 =prof2(m,k)\n"
     ]
    }
   ],
   "source": [
    "#Gas auto-spectra\n",
    "\n",
    "def PG2h(k):\n",
    "    return ccl.linear_matter_power(cosmo, k, a)/(Fg*rho_g)**2*integratedGENbp(mmin_gas,mmax_gas,k,f)**2\n",
    "\n",
    "def PG1h(k):\n",
    "    return 1/(Fg*rho_g)**2*integratedGEN2p(mmin_gas,mmax_gas,k,f,f)\n",
    "\n",
    "def PGd(k):\n",
    "    return bd**2*ccl.linear_matter_power(cosmo, k, a)\n",
    "\n",
    "def PGdh(k):\n",
    "    return bd*ccl.linear_matter_power(cosmo, k, a)/(Fg*rho_g)*integratedGENbp(mmin_gas,mmax_gas,k,f)\n",
    "\n",
    "PG2h_arr=np.zeros(len(k_arr))\n",
    "PG1h_arr=np.zeros(len(k_arr))\n",
    "PGd_arr=np.zeros(len(k_arr))\n",
    "PGdh_arr=np.zeros(len(k_arr))\n",
    "for i in range(0,len(k_arr)):\n",
    "    PG2h_arr[i]=PG2h(k_arr[i])\n",
    "    PGd_arr[i]=PGd(k_arr[i])\n",
    "    PG1h_arr[i]=PG1h(k_arr[i])\n",
    "    PGdh_arr[i]=PGdh(k_arr[i])\n",
    "\n",
    "PG = Fg**2*(PG2h_arr + PG1h_arr) + (1-Fg)**2*PGd_arr + 2*Fg*(1-Fg)*PGdh_arr"
   ]
  },
  {
   "cell_type": "markdown",
   "id": "19bbef79",
   "metadata": {},
   "source": [
    "And their cross-correlation:"
   ]
  },
  {
   "cell_type": "code",
   "execution_count": 15,
   "id": "1zoF589IU5-Q",
   "metadata": {
    "id": "1zoF589IU5-Q",
    "ExecuteTime": {
     "end_time": "2024-02-20T18:53:10.659141Z",
     "start_time": "2024-02-20T18:52:08.121791Z"
    }
   },
   "outputs": [
    {
     "name": "stderr",
     "output_type": "stream",
     "text": [
      "/var/folders/0x/z32gfbyx2ls71tblrjjbdh0w0000gn/T/ipykernel_1306/1967191071.py:21: DeprecationWarning:         `interp2d` is deprecated!\n",
      "        `interp2d` is deprecated in SciPy 1.10 and will be removed in SciPy 1.13.0.\n",
      "\n",
      "        For legacy code, nearly bug-for-bug compatible replacements are\n",
      "        `RectBivariateSpline` on regular grids, and `bisplrep`/`bisplev` for\n",
      "        scattered 2D data.\n",
      "\n",
      "        In new code, for regular grids use `RegularGridInterpolator` instead.\n",
      "        For scattered data, prefer `LinearNDInterpolator` or\n",
      "        `CloughTocher2DInterpolator`.\n",
      "\n",
      "        For more details see\n",
      "        `https://scipy.github.io/devdocs/notebooks/interp_transition_guide.html`\n",
      "\n",
      "  y=prof1(m,k)\n",
      "/var/folders/0x/z32gfbyx2ls71tblrjjbdh0w0000gn/T/ipykernel_1306/1967191071.py:12: DeprecationWarning:         `interp2d` is deprecated!\n",
      "        `interp2d` is deprecated in SciPy 1.10 and will be removed in SciPy 1.13.0.\n",
      "\n",
      "        For legacy code, nearly bug-for-bug compatible replacements are\n",
      "        `RectBivariateSpline` on regular grids, and `bisplrep`/`bisplev` for\n",
      "        scattered 2D data.\n",
      "\n",
      "        In new code, for regular grids use `RegularGridInterpolator` instead.\n",
      "        For scattered data, prefer `LinearNDInterpolator` or\n",
      "        `CloughTocher2DInterpolator`.\n",
      "\n",
      "        For more details see\n",
      "        `https://scipy.github.io/devdocs/notebooks/interp_transition_guide.html`\n",
      "\n",
      "  y1=prof1(m,k)\n",
      "/var/folders/0x/z32gfbyx2ls71tblrjjbdh0w0000gn/T/ipykernel_1306/1967191071.py:13: DeprecationWarning:         `interp2d` is deprecated!\n",
      "        `interp2d` is deprecated in SciPy 1.10 and will be removed in SciPy 1.13.0.\n",
      "\n",
      "        For legacy code, nearly bug-for-bug compatible replacements are\n",
      "        `RectBivariateSpline` on regular grids, and `bisplrep`/`bisplev` for\n",
      "        scattered 2D data.\n",
      "\n",
      "        In new code, for regular grids use `RegularGridInterpolator` instead.\n",
      "        For scattered data, prefer `LinearNDInterpolator` or\n",
      "        `CloughTocher2DInterpolator`.\n",
      "\n",
      "        For more details see\n",
      "        `https://scipy.github.io/devdocs/notebooks/interp_transition_guide.html`\n",
      "\n",
      "  y2 =prof2(m,k)\n"
     ]
    }
   ],
   "source": [
    "#DM x gas\n",
    "\n",
    "def PDMgdh(k):\n",
    "    return (bd*ccl.linear_matter_power(cosmo, k, a)/rho_DM)*integratedGENbp(mmin_DM,mmax_DM,k,fDM)\n",
    "def PDMg1h(k):\n",
    "    return 1/(rho_DM*Fg*rho_g)*integratedGEN2p(mmin_gas,mmax_gas,k,f,fDM)\n",
    "def PDMg2h(k):\n",
    "    return ccl.linear_matter_power(cosmo, k, a)/(rho_DM*Fg*rho_g)*integratedGENbp(mmin_DM,mmax_DM,k,fDM)*integratedGENbp(mmin_gas,mmax_gas,k,f)\n",
    "\n",
    "PDMgdh_arr=np.zeros(len(k_arr))\n",
    "PDMg2h_arr=np.zeros(len(k_arr))\n",
    "PDMg1h_arr=np.zeros(len(k_arr))\n",
    "for i in range(0,len(k_arr)):\n",
    "    PDMgdh_arr[i]=PDMgdh(k_arr[i])\n",
    "    PDMg1h_arr[i]=PDMg1h(k_arr[i])\n",
    "    PDMg2h_arr[i]=PDMg2h(k_arr[i])\n",
    "\n",
    "PDMg = (1-Fg)*PDMgdh_arr + Fg*(PDMg1h_arr+PDMg2h_arr)"
   ]
  },
  {
   "cell_type": "markdown",
   "id": "aa0aae9b",
   "metadata": {
    "id": "aa0aae9b"
   },
   "source": [
    "We will now compute all spectra that involve a stellar contribution:"
   ]
  },
  {
   "cell_type": "code",
   "execution_count": 16,
   "id": "8c23c8e9",
   "metadata": {
    "id": "8c23c8e9",
    "ExecuteTime": {
     "end_time": "2024-02-20T18:53:26.390508Z",
     "start_time": "2024-02-20T18:53:10.666575Z"
    }
   },
   "outputs": [
    {
     "name": "stderr",
     "output_type": "stream",
     "text": [
      "/var/folders/0x/z32gfbyx2ls71tblrjjbdh0w0000gn/T/ipykernel_1306/1967191071.py:21: DeprecationWarning:         `interp2d` is deprecated!\n",
      "        `interp2d` is deprecated in SciPy 1.10 and will be removed in SciPy 1.13.0.\n",
      "\n",
      "        For legacy code, nearly bug-for-bug compatible replacements are\n",
      "        `RectBivariateSpline` on regular grids, and `bisplrep`/`bisplev` for\n",
      "        scattered 2D data.\n",
      "\n",
      "        In new code, for regular grids use `RegularGridInterpolator` instead.\n",
      "        For scattered data, prefer `LinearNDInterpolator` or\n",
      "        `CloughTocher2DInterpolator`.\n",
      "\n",
      "        For more details see\n",
      "        `https://scipy.github.io/devdocs/notebooks/interp_transition_guide.html`\n",
      "\n",
      "  y=prof1(m,k)\n",
      "/var/folders/0x/z32gfbyx2ls71tblrjjbdh0w0000gn/T/ipykernel_1306/1967191071.py:12: DeprecationWarning:         `interp2d` is deprecated!\n",
      "        `interp2d` is deprecated in SciPy 1.10 and will be removed in SciPy 1.13.0.\n",
      "\n",
      "        For legacy code, nearly bug-for-bug compatible replacements are\n",
      "        `RectBivariateSpline` on regular grids, and `bisplrep`/`bisplev` for\n",
      "        scattered 2D data.\n",
      "\n",
      "        In new code, for regular grids use `RegularGridInterpolator` instead.\n",
      "        For scattered data, prefer `LinearNDInterpolator` or\n",
      "        `CloughTocher2DInterpolator`.\n",
      "\n",
      "        For more details see\n",
      "        `https://scipy.github.io/devdocs/notebooks/interp_transition_guide.html`\n",
      "\n",
      "  y1=prof1(m,k)\n",
      "/var/folders/0x/z32gfbyx2ls71tblrjjbdh0w0000gn/T/ipykernel_1306/1967191071.py:13: DeprecationWarning:         `interp2d` is deprecated!\n",
      "        `interp2d` is deprecated in SciPy 1.10 and will be removed in SciPy 1.13.0.\n",
      "\n",
      "        For legacy code, nearly bug-for-bug compatible replacements are\n",
      "        `RectBivariateSpline` on regular grids, and `bisplrep`/`bisplev` for\n",
      "        scattered 2D data.\n",
      "\n",
      "        In new code, for regular grids use `RegularGridInterpolator` instead.\n",
      "        For scattered data, prefer `LinearNDInterpolator` or\n",
      "        `CloughTocher2DInterpolator`.\n",
      "\n",
      "        For more details see\n",
      "        `https://scipy.github.io/devdocs/notebooks/interp_transition_guide.html`\n",
      "\n",
      "  y2 =prof2(m,k)\n"
     ]
    }
   ],
   "source": [
    "#Stars auto spectrum\n",
    "def PS2h(k):\n",
    "    return ccl.linear_matter_power(cosmo, k, a)/rho_star**2*integratedGENbp(mmin_stars,mmax_stars,k,fs)**2\n",
    "\n",
    "def PS1h(k):\n",
    "    return 1/rho_star**2*integratedGEN2p(mmin_stars,mmax_stars,k,fs,fs)\n",
    "\n",
    "PS2h_arr=np.zeros(len(k_arr))\n",
    "PS1h_arr=np.zeros(len(k_arr))\n",
    "for i in range(0,len(k_arr)):\n",
    "    PS2h_arr[i]=PS2h(k_arr[i])\n",
    "    PS1h_arr[i]=PS1h(k_arr[i])"
   ]
  },
  {
   "cell_type": "code",
   "execution_count": 17,
   "id": "tDGFw9lUVDw-",
   "metadata": {
    "id": "tDGFw9lUVDw-",
    "ExecuteTime": {
     "end_time": "2024-02-20T18:54:07.712192Z",
     "start_time": "2024-02-20T18:53:26.398604Z"
    }
   },
   "outputs": [
    {
     "name": "stderr",
     "output_type": "stream",
     "text": [
      "/var/folders/0x/z32gfbyx2ls71tblrjjbdh0w0000gn/T/ipykernel_1306/1967191071.py:12: DeprecationWarning:         `interp2d` is deprecated!\n",
      "        `interp2d` is deprecated in SciPy 1.10 and will be removed in SciPy 1.13.0.\n",
      "\n",
      "        For legacy code, nearly bug-for-bug compatible replacements are\n",
      "        `RectBivariateSpline` on regular grids, and `bisplrep`/`bisplev` for\n",
      "        scattered 2D data.\n",
      "\n",
      "        In new code, for regular grids use `RegularGridInterpolator` instead.\n",
      "        For scattered data, prefer `LinearNDInterpolator` or\n",
      "        `CloughTocher2DInterpolator`.\n",
      "\n",
      "        For more details see\n",
      "        `https://scipy.github.io/devdocs/notebooks/interp_transition_guide.html`\n",
      "\n",
      "  y1=prof1(m,k)\n",
      "/var/folders/0x/z32gfbyx2ls71tblrjjbdh0w0000gn/T/ipykernel_1306/1967191071.py:13: DeprecationWarning:         `interp2d` is deprecated!\n",
      "        `interp2d` is deprecated in SciPy 1.10 and will be removed in SciPy 1.13.0.\n",
      "\n",
      "        For legacy code, nearly bug-for-bug compatible replacements are\n",
      "        `RectBivariateSpline` on regular grids, and `bisplrep`/`bisplev` for\n",
      "        scattered 2D data.\n",
      "\n",
      "        In new code, for regular grids use `RegularGridInterpolator` instead.\n",
      "        For scattered data, prefer `LinearNDInterpolator` or\n",
      "        `CloughTocher2DInterpolator`.\n",
      "\n",
      "        For more details see\n",
      "        `https://scipy.github.io/devdocs/notebooks/interp_transition_guide.html`\n",
      "\n",
      "  y2 =prof2(m,k)\n",
      "/var/folders/0x/z32gfbyx2ls71tblrjjbdh0w0000gn/T/ipykernel_1306/1967191071.py:21: DeprecationWarning:         `interp2d` is deprecated!\n",
      "        `interp2d` is deprecated in SciPy 1.10 and will be removed in SciPy 1.13.0.\n",
      "\n",
      "        For legacy code, nearly bug-for-bug compatible replacements are\n",
      "        `RectBivariateSpline` on regular grids, and `bisplrep`/`bisplev` for\n",
      "        scattered 2D data.\n",
      "\n",
      "        In new code, for regular grids use `RegularGridInterpolator` instead.\n",
      "        For scattered data, prefer `LinearNDInterpolator` or\n",
      "        `CloughTocher2DInterpolator`.\n",
      "\n",
      "        For more details see\n",
      "        `https://scipy.github.io/devdocs/notebooks/interp_transition_guide.html`\n",
      "\n",
      "  y=prof1(m,k)\n"
     ]
    }
   ],
   "source": [
    "#DM x stars\n",
    "\n",
    "def PDMs1h(k):\n",
    "    return 1/(rho_DM*rho_star)*integratedGEN2p(mmin_stars,mmax_stars,k,fDM,fs)\n",
    "\n",
    "def PDMs2h(k):\n",
    "    ii=integratedGENbp(mmin_stars,mmax_stars,k,fs)*integratedGENbp(mmin_DM,mmax_DM,k,fDM)\n",
    "    return ccl.linear_matter_power(cosmo, k, a)/(rho_DM*rho_star)*ii\n",
    "\n",
    "#Eval and add DM x stars\n",
    "PDMs1h_arr=np.zeros(len(k_arr))\n",
    "PDMs2h_arr=np.zeros(len(k_arr))\n",
    "for i in range(0,len(k_arr)):\n",
    "    PDMs1h_arr[i]=PDMs1h(k_arr[i])\n",
    "    PDMs2h_arr[i]=PDMs2h(k_arr[i])\n",
    "PDMs = PDMs1h_arr+PDMs2h_arr"
   ]
  },
  {
   "cell_type": "code",
   "execution_count": 18,
   "id": "HhDGQgGBVFt5",
   "metadata": {
    "id": "HhDGQgGBVFt5",
    "ExecuteTime": {
     "end_time": "2024-02-20T18:54:44.525293Z",
     "start_time": "2024-02-20T18:54:07.712335Z"
    }
   },
   "outputs": [
    {
     "name": "stderr",
     "output_type": "stream",
     "text": [
      "/var/folders/0x/z32gfbyx2ls71tblrjjbdh0w0000gn/T/ipykernel_1306/1967191071.py:21: DeprecationWarning:         `interp2d` is deprecated!\n",
      "        `interp2d` is deprecated in SciPy 1.10 and will be removed in SciPy 1.13.0.\n",
      "\n",
      "        For legacy code, nearly bug-for-bug compatible replacements are\n",
      "        `RectBivariateSpline` on regular grids, and `bisplrep`/`bisplev` for\n",
      "        scattered 2D data.\n",
      "\n",
      "        In new code, for regular grids use `RegularGridInterpolator` instead.\n",
      "        For scattered data, prefer `LinearNDInterpolator` or\n",
      "        `CloughTocher2DInterpolator`.\n",
      "\n",
      "        For more details see\n",
      "        `https://scipy.github.io/devdocs/notebooks/interp_transition_guide.html`\n",
      "\n",
      "  y=prof1(m,k)\n",
      "/var/folders/0x/z32gfbyx2ls71tblrjjbdh0w0000gn/T/ipykernel_1306/1967191071.py:12: DeprecationWarning:         `interp2d` is deprecated!\n",
      "        `interp2d` is deprecated in SciPy 1.10 and will be removed in SciPy 1.13.0.\n",
      "\n",
      "        For legacy code, nearly bug-for-bug compatible replacements are\n",
      "        `RectBivariateSpline` on regular grids, and `bisplrep`/`bisplev` for\n",
      "        scattered 2D data.\n",
      "\n",
      "        In new code, for regular grids use `RegularGridInterpolator` instead.\n",
      "        For scattered data, prefer `LinearNDInterpolator` or\n",
      "        `CloughTocher2DInterpolator`.\n",
      "\n",
      "        For more details see\n",
      "        `https://scipy.github.io/devdocs/notebooks/interp_transition_guide.html`\n",
      "\n",
      "  y1=prof1(m,k)\n",
      "/var/folders/0x/z32gfbyx2ls71tblrjjbdh0w0000gn/T/ipykernel_1306/1967191071.py:13: DeprecationWarning:         `interp2d` is deprecated!\n",
      "        `interp2d` is deprecated in SciPy 1.10 and will be removed in SciPy 1.13.0.\n",
      "\n",
      "        For legacy code, nearly bug-for-bug compatible replacements are\n",
      "        `RectBivariateSpline` on regular grids, and `bisplrep`/`bisplev` for\n",
      "        scattered 2D data.\n",
      "\n",
      "        In new code, for regular grids use `RegularGridInterpolator` instead.\n",
      "        For scattered data, prefer `LinearNDInterpolator` or\n",
      "        `CloughTocher2DInterpolator`.\n",
      "\n",
      "        For more details see\n",
      "        `https://scipy.github.io/devdocs/notebooks/interp_transition_guide.html`\n",
      "\n",
      "  y2 =prof2(m,k)\n"
     ]
    }
   ],
   "source": [
    "#Stars x gas\n",
    "def Psgh(k):\n",
    "    return bd*ccl.linear_matter_power(cosmo, k, a)/rho_star*integratedGENbp(mmin_stars,mmax_stars,k,fs)\n",
    "\n",
    "def Psg1h(k):\n",
    "    return 1/(rho_star*Fg*rho_g)*integratedGEN2p(mmin_gas,mmax_stars,k,f,fs)\n",
    "\n",
    "def Psg2h(k):\n",
    "    ii=integratedGENbp(mmin_stars,mmax_stars,k,fs)*integratedGENbp(mmin_gas,mmax_gas,k,f)\n",
    "    return ccl.linear_matter_power(cosmo, k, a)/(rho_star*Fg*rho_g)*ii\n",
    "\n",
    "#Eval and add star x gas\n",
    "Psgh_arr=np.zeros(len(k_arr))\n",
    "Psg2h_arr=np.zeros(len(k_arr))\n",
    "Psg1h_arr=np.zeros(len(k_arr))\n",
    "for i in range(0,len(k_arr)):\n",
    "    Psgh_arr[i]=Psgh(k_arr[i])\n",
    "    Psg1h_arr[i]=Psg1h(k_arr[i])\n",
    "    Psg2h_arr[i]=Psg2h(k_arr[i])\n",
    "Psg = (1-Fg)*Psgh_arr + Fg*(Psg1h_arr+Psg2h_arr)"
   ]
  },
  {
   "cell_type": "markdown",
   "id": "7b66791f",
   "metadata": {
    "id": "7b66791f"
   },
   "source": [
    "Now plot them all and add them to form the total. We will plot them relative to the standard nonlinear matter power spectrum from CCL, which does not account for baryons."
   ]
  },
  {
   "cell_type": "code",
   "execution_count": 19,
   "id": "ce53505e",
   "metadata": {
    "id": "ce53505e",
    "outputId": "173ca525-8779-490a-f545-fa79b191cfcd",
    "ExecuteTime": {
     "end_time": "2024-02-20T18:54:45.358778Z",
     "start_time": "2024-02-20T18:54:44.525380Z"
    }
   },
   "outputs": [
    {
     "data": {
      "text/plain": "<Figure size 700x800 with 1 Axes>",
      "image/png": "[encoded data removed]"
     },
     "metadata": {},
     "output_type": "display_data"
    }
   ],
   "source": [
    "#Auto-spectra\n",
    "Pauto = (rho_DM/rho_m)**2*(PDM2h_arr+PDM1h_arr)+(rho_g/rho_m)**2*PG+(rho_star/rho_m)**2*(PS1h_arr+PS2h_arr)\n",
    "#Cross-spectra\n",
    "Pcross = (2*rho_DM*rho_star*PDMs +2*rho_g*rho_star*Psg+2*rho_DM*rho_g*PDMg)/(rho_m**2)\n",
    "#Add all\n",
    "Ptotal = Pauto + Pcross\n",
    "\n",
    "#Relative power spectra\n",
    "plt.figure(figsize=(7,8))\n",
    "#All auto correl\n",
    "plt.plot(k_arr/cosmo['h'], (rho_DM/rho_m)**2*(PDM2h_arr+PDM1h_arr)/pk_nl, 'k-', label='$P_{DM}(k)$')\n",
    "plt.plot(k_arr/cosmo['h'], (rho_g/rho_m)**2*PG/pk_nl, 'r-', label='$P_{G}(k)$')\n",
    "plt.plot(k_arr/cosmo['h'], (rho_star/rho_m)**2*(PS2h_arr+PS1h_arr)/pk_nl, 'b-', label='$P_{S}(k)$')\n",
    "#All cross correl\n",
    "plt.plot(k_arr/cosmo['h'], 2*rho_DM*rho_g/(rho_m**2)*PDMg/pk_nl, 'g-', label='$P_{DM,G}(k)$')\n",
    "plt.plot(k_arr/cosmo['h'], 2*rho_g*rho_star/(rho_m**2)*Psg/pk_nl, 'm-', label='$P_{G,S}(k)$')\n",
    "plt.plot(k_arr/cosmo['h'], 2*rho_DM*rho_star/(rho_m**2)*PDMs/pk_nl, 'c-', label='$P_{DM,S}(k)$')\n",
    "#And the total with respect to CAMBs nonlinear power\n",
    "plt.plot(k_arr/cosmo['h'], Ptotal/pk_nl, 'k--', label='$P_{total}(k)$')\n",
    "plt.xscale('log')\n",
    "plt.yscale('log')\n",
    "plt.legend(loc='lower left', fontsize=12.5)\n",
    "plt.ylabel(r'$P(k)/P_{nl}(k)$', fontsize=15)\n",
    "plt.xlabel(r'$k\\,\\,[{\\rm h/Mpc}]$', fontsize=15)\n",
    "plt.show()\n"
   ]
  },
  {
   "cell_type": "code",
   "outputs": [],
   "source": [
    "data_dict = {\n",
    "    \"k\": k_arr,\n",
    "    \"k/h\": k_arr/cosmo['h'],\n",
    "    \"dm\": (rho_DM/rho_m)**2*(PDM2h_arr+PDM1h_arr),\n",
    "    \"g\": (rho_g/rho_m)**2*PG,\n",
    "    \"s\": (rho_star/rho_m)**2*(PS2h_arr+PS1h_arr),\n",
    "    \"dm_g\": 2*rho_DM*rho_g/(rho_m**2)*PDMg,\n",
    "    \"g_s\": 2*rho_g*rho_star/(rho_m**2)*Psg,\n",
    "    \"dm_s\": 2*rho_DM*rho_star/(rho_m**2)*PDMs,\n",
    "    \"pk_halo_total\": Ptotal\n",
    "}\n",
    "labels_dict = {\n",
    "    \"k\": \"$k$\",\n",
    "    \"k/h\": \"$k / \\mathrm{h}$\",\n",
    "    \"dm\": \"$P_{DM}(k)$\",\n",
    "    \"g\": \"$P_{G}(k)$\",\n",
    "    \"s\": \"$P_{S}(k)$\",\n",
    "    \"dm_g\": \"$P_{DM, G}(k)$\",\n",
    "    \"g_s\": \"$P_{G, S}(k)$\",\n",
    "    \"dm_s\": \"$P_{DM, S}(k)$\",\n",
    "    \"pk\": \"$P(k)^\\mathrm{HM}$\",\n",
    "}\n",
    "\n",
    "# Then we save the data dictionary to a npy file\n",
    "np.save(\"data/baryons_halomodel_pk_data.npy\", data_dict)\n",
    "np.save(\"data/baryons_halomodel_pk_labels.npy\", labels_dict)"
   ],
   "metadata": {
    "collapsed": false
   },
   "id": "84968b89b359cd2f"
  },
  {
   "cell_type": "code",
   "outputs": [
    {
     "data": {
      "text/plain": "<Figure size 700x800 with 1 Axes>",
      "image/png": "[encoded data removed]"
     },
     "metadata": {},
     "output_type": "display_data"
    }
   ],
   "source": [
    "#Auto-spectra\n",
    "Pauto = (rho_DM/rho_m)**2*(PDM2h_arr+PDM1h_arr)+(rho_g/rho_m)**2*PG+(rho_star/rho_m)**2*(PS1h_arr+PS2h_arr)\n",
    "#Cross-spectra\n",
    "Pcross = (2*rho_DM*rho_star*PDMs +2*rho_g*rho_star*Psg+2*rho_DM*rho_g*PDMg)/(rho_m**2)\n",
    "#Add all\n",
    "Ptotal = Pauto + Pcross\n",
    "\n",
    "#Relative power spectra\n",
    "plt.figure(figsize=(7,8))\n",
    "#All auto correl\n",
    "#plt.plot(k_arr/cosmo['h'], (rho_DM/rho_m)**2*(PDM2h_arr+PDM1h_arr)/pk_nl, 'k-', label='$P_{DM}(k)$')\n",
    "#plt.plot(k_arr/cosmo['h'], (rho_g/rho_m)**2*PG/pk_nl, 'r-', label='$P_{G}(k)$')\n",
    "#plt.plot(k_arr/cosmo['h'], (rho_star/rho_m)**2*(PS2h_arr+PS1h_arr)/pk_nl, 'b-', label='$P_{S}(k)$')\n",
    "#All cross correl\n",
    "#plt.plot(k_arr/cosmo['h'], 2*rho_DM*rho_g/(rho_m**2)*PDMg/pk_nl, 'g-', label='$P_{DM,G}(k)$')\n",
    "#plt.plot(k_arr/cosmo['h'], 2*rho_g*rho_star/(rho_m**2)*Psg/pk_nl, 'm-', label='$P_{G,S}(k)$')\n",
    "#plt.plot(k_arr/cosmo['h'], 2*rho_DM*rho_star/(rho_m**2)*PDMs/pk_nl, 'c-', label='$P_{DM,S}(k)$')\n",
    "#And the total with respect to CAMBs nonlinear power\n",
    "plt.plot(k_arr/cosmo['h'], Ptotal/pk_nl, 'k--', label='$P_{total}(k)$')\n",
    "plt.plot(k_arr/cosmo['h'], Pauto/pk_nl, 'c--', label='$P_{total}(k)$')\n",
    "plt.xscale('log')\n",
    "plt.yscale('log')\n",
    "plt.legend(loc='lower left', fontsize=12.5)\n",
    "plt.ylabel(r'$P(k)/P_{nl}(k)$', fontsize=15)\n",
    "plt.xlabel(r'$k\\,\\,[{\\rm h/Mpc}]$', fontsize=15)\n",
    "plt.show()\n",
    "\n",
    "\n"
   ],
   "metadata": {
    "collapsed": false,
    "ExecuteTime": {
     "end_time": "2024-02-20T19:12:38.286945Z",
     "start_time": "2024-02-20T19:12:37.861391Z"
    }
   },
   "id": "1e90685d84e03cc2",
   "execution_count": 29
  },
  {
   "cell_type": "code",
   "outputs": [
    {
     "data": {
      "text/plain": "[<matplotlib.lines.Line2D at 0x14da64ed0>]"
     },
     "execution_count": 25,
     "metadata": {},
     "output_type": "execute_result"
    },
    {
     "data": {
      "text/plain": "<Figure size 640x480 with 1 Axes>",
      "image/png": "[encoded data removed]"
     },
     "metadata": {},
     "output_type": "display_data"
    }
   ],
   "source": [
    "plt.loglog(k_arr/cosmo['h'], Ptotal/pk_nl, 'c-', label='$P_{DM,S}(k)$')"
   ],
   "metadata": {
    "collapsed": false,
    "ExecuteTime": {
     "end_time": "2024-02-20T19:10:22.364499Z",
     "start_time": "2024-02-20T19:10:21.946328Z"
    }
   },
   "id": "926404608198cb80",
   "execution_count": 25
  },
  {
   "cell_type": "code",
   "execution_count": 21,
   "id": "8d218fab",
   "metadata": {
    "ExecuteTime": {
     "end_time": "2024-02-20T18:54:46.024436Z",
     "start_time": "2024-02-20T18:54:46.016120Z"
    }
   },
   "outputs": [
    {
     "data": {
      "text/plain": "{'k': array([1.00000000e-03, 1.09749877e-03, 1.20450354e-03, 1.32194115e-03,\n        1.45082878e-03, 1.59228279e-03, 1.74752840e-03, 1.91791026e-03,\n        2.10490414e-03, 2.31012970e-03, 2.53536449e-03, 2.78255940e-03,\n        3.05385551e-03, 3.35160265e-03, 3.67837977e-03, 4.03701726e-03,\n        4.43062146e-03, 4.86260158e-03, 5.33669923e-03, 5.85702082e-03,\n        6.42807312e-03, 7.05480231e-03, 7.74263683e-03, 8.49753436e-03,\n        9.32603347e-03, 1.02353102e-02, 1.12332403e-02, 1.23284674e-02,\n        1.35304777e-02, 1.48496826e-02, 1.62975083e-02, 1.78864953e-02,\n        1.96304065e-02, 2.15443469e-02, 2.36448941e-02, 2.59502421e-02,\n        2.84803587e-02, 3.12571585e-02, 3.43046929e-02, 3.76493581e-02,\n        4.13201240e-02, 4.53487851e-02, 4.97702356e-02, 5.46227722e-02,\n        5.99484250e-02, 6.57933225e-02, 7.22080902e-02, 7.92482898e-02,\n        8.69749003e-02, 9.54548457e-02, 1.04761575e-01, 1.14975700e-01,\n        1.26185688e-01, 1.38488637e-01, 1.51991108e-01, 1.66810054e-01,\n        1.83073828e-01, 2.00923300e-01, 2.20513074e-01, 2.42012826e-01,\n        2.65608778e-01, 2.91505306e-01, 3.19926714e-01, 3.51119173e-01,\n        3.85352859e-01, 4.22924287e-01, 4.64158883e-01, 5.09413801e-01,\n        5.59081018e-01, 6.13590727e-01, 6.73415066e-01, 7.39072203e-01,\n        8.11130831e-01, 8.90215085e-01, 9.77009957e-01, 1.07226722e+00,\n        1.17681195e+00, 1.29154967e+00, 1.41747416e+00, 1.55567614e+00,\n        1.70735265e+00, 1.87381742e+00, 2.05651231e+00, 2.25701972e+00,\n        2.47707636e+00, 2.71858824e+00, 2.98364724e+00, 3.27454916e+00,\n        3.59381366e+00, 3.94420606e+00, 4.32876128e+00, 4.75081016e+00,\n        5.21400829e+00, 5.72236766e+00, 6.28029144e+00, 6.89261210e+00,\n        7.56463328e+00, 8.30217568e+00, 9.11162756e+00, 1.00000000e+01]),\n 'k/h': array([1.49253731e-03, 1.63805786e-03, 1.79776648e-03, 1.97304649e-03,\n        2.16541609e-03, 2.37654148e-03, 2.60825134e-03, 2.86255263e-03,\n        3.14164798e-03, 3.44795478e-03, 3.78412611e-03, 4.15307373e-03,\n        4.55799330e-03, 5.00239202e-03, 5.49011906e-03, 6.02539889e-03,\n        6.61286785e-03, 7.25761430e-03, 7.96522273e-03, 8.74182212e-03,\n        9.59413898e-03, 1.05295557e-02, 1.15561744e-02, 1.26828871e-02,\n        1.39194529e-02, 1.52765824e-02, 1.67660303e-02, 1.84006976e-02,\n        2.01947429e-02, 2.21637054e-02, 2.43246393e-02, 2.66962616e-02,\n        2.92991142e-02, 3.21557416e-02, 3.52908868e-02, 3.87317046e-02,\n        4.25079980e-02, 4.66524754e-02, 5.12010341e-02, 5.61930717e-02,\n        6.16718269e-02, 6.76847539e-02, 7.42839338e-02, 8.15265256e-02,\n        8.94752612e-02, 9.81989888e-02, 1.07773269e-01, 1.18281030e-01,\n        1.29813284e-01, 1.42469919e-01, 1.56360560e-01, 1.71605522e-01,\n        1.88336848e-01, 2.06699458e-01, 2.26852400e-01, 2.48970229e-01,\n        2.73244519e-01, 2.99885523e-01, 3.29123991e-01, 3.61213174e-01,\n        3.96431012e-01, 4.35082547e-01, 4.77502558e-01, 5.24058468e-01,\n        5.75153521e-01, 6.31230280e-01, 6.92774453e-01, 7.60319107e-01,\n        8.34449281e-01, 9.15807056e-01, 1.00509711e+00, 1.10309284e+00,\n        1.21064303e+00, 1.32867923e+00, 1.45822382e+00, 1.60039884e+00,\n        1.75643575e+00, 1.92768607e+00, 2.11563308e+00, 2.32190469e+00,\n        2.54828753e+00, 2.79674242e+00, 3.06942136e+00, 3.36868615e+00,\n        3.69712889e+00, 4.05759439e+00, 4.45320484e+00, 4.88738681e+00,\n        5.36390099e+00, 5.88687472e+00, 6.46083773e+00, 7.09076144e+00,\n        7.78210192e+00, 8.54084725e+00, 9.37356932e+00, 1.02874808e+01,\n        1.12904974e+01, 1.23913070e+01, 1.35994441e+01, 1.49253731e+01]),\n 'dm': array([1.53768110e+04, 1.65978543e+04, 1.79102591e+04, 1.93176934e+04,\n        2.08234229e+04, 2.24299386e+04, 2.41386156e+04, 2.59498181e+04,\n        2.78626697e+04, 2.98742164e+04, 3.19794044e+04, 3.41711419e+04,\n        3.64395942e+04, 3.87715293e+04, 4.11502984e+04, 4.35553188e+04,\n        4.59616778e+04, 4.83397172e+04, 5.06547019e+04, 5.28665050e+04,\n        5.49293363e+04, 5.67919045e+04, 5.83975203e+04, 5.96849490e+04,\n        6.05898160e+04, 6.10461476e+04, 6.09898575e+04, 6.03686365e+04,\n        5.91428173e+04, 5.72958660e+04, 5.48437739e+04, 5.18443112e+04,\n        4.84040690e+04, 4.46801670e+04, 4.08726822e+04, 3.71699473e+04,\n        3.38028728e+04, 3.09683233e+04, 2.86904714e+04, 2.68638881e+04,\n        2.53377428e+04, 2.36790619e+04, 2.15927209e+04, 1.89760264e+04,\n        1.61402314e+04, 1.36520427e+04, 1.19546993e+04, 1.09933985e+04,\n        1.01724924e+04, 8.86785734e+03, 7.37092438e+03, 6.37636042e+03,\n        5.85547550e+03, 5.16017939e+03, 4.37906044e+03, 3.94294845e+03,\n        3.51079655e+03, 3.08331675e+03, 2.79158760e+03, 2.48687209e+03,\n        2.25906637e+03, 2.05021138e+03, 1.87965394e+03, 1.73360624e+03,\n        1.60848375e+03, 1.49850573e+03, 1.39659047e+03, 1.30622255e+03,\n        1.22468696e+03, 1.14999472e+03, 1.07362349e+03, 1.00105501e+03,\n        9.31174233e+02, 8.59739441e+02, 7.89389312e+02, 7.20057357e+02,\n        6.51237592e+02, 5.84921459e+02, 5.19954719e+02, 4.59795474e+02,\n        4.03114586e+02, 3.50632701e+02, 3.02969733e+02, 2.60384740e+02,\n        2.22804118e+02, 1.89838947e+02, 1.60900124e+02, 1.35682815e+02,\n        1.13626583e+02, 9.50927598e+01, 7.96956229e+01, 6.66176084e+01,\n        5.48982548e+01, 4.47928738e+01, 3.68027166e+01, 3.05925627e+01,\n        2.50779625e+01, 2.00527862e+01, 1.60625537e+01, 1.31218788e+01]),\n 'g': array([7.16713383e+02, 7.77005350e+02, 8.41808505e+02, 9.11303976e+02,\n        9.85653009e+02, 1.06497861e+03, 1.14934866e+03, 1.23878116e+03,\n        1.33323284e+03, 1.43255782e+03, 1.53650656e+03, 1.64472890e+03,\n        1.75673922e+03, 1.87188415e+03, 1.98934162e+03, 2.10809532e+03,\n        2.22691511e+03, 2.34433656e+03, 2.45864452e+03, 2.56785765e+03,\n        2.66971492e+03, 2.76168373e+03, 2.84096489e+03, 2.90453480e+03,\n        2.94921479e+03, 2.97154733e+03, 2.96792074e+03, 2.93633708e+03,\n        2.87485916e+03, 2.78269911e+03, 2.66067926e+03, 2.51168610e+03,\n        2.34101048e+03, 2.15643479e+03, 1.96783752e+03, 1.78450390e+03,\n        1.61778894e+03, 1.47734249e+03, 1.36430826e+03, 1.27346612e+03,\n        1.19738334e+03, 1.11485576e+03, 1.01150823e+03, 8.82434525e+02,\n        7.42932903e+02, 6.20646058e+02, 5.37042499e+02, 4.89290992e+02,\n        4.48412333e+02, 3.84291078e+02, 3.11139954e+02, 2.62377634e+02,\n        2.36453106e+02, 2.02302891e+02, 1.64242247e+02, 1.42700883e+02,\n        1.21455276e+02, 1.00557260e+02, 8.62421766e+01, 7.15607753e+01,\n        6.05560785e+01, 5.05330039e+01, 4.23639995e+01, 3.54074611e+01,\n        2.94905149e+01, 2.45784358e+01, 2.06113769e+01, 1.72300063e+01,\n        1.43381960e+01, 1.18625659e+01, 9.94008034e+00, 8.27470530e+00,\n        6.82112986e+00, 5.69652994e+00, 4.70634354e+00, 3.89351528e+00,\n        3.20661002e+00, 2.64152745e+00, 2.15704690e+00, 1.76890318e+00,\n        1.44162530e+00, 1.16871043e+00, 9.43568726e-01, 7.58820714e-01,\n        6.07565554e-01, 4.83897951e-01, 3.82869970e-01, 3.01656521e-01,\n        2.36051633e-01, 1.83858169e-01, 1.42207473e-01, 1.09318863e-01,\n        8.34655309e-02, 6.34363333e-02, 4.78654206e-02, 3.59120066e-02,\n        2.67832919e-02, 1.98657551e-02, 1.46579288e-02, 1.07644239e-02]),\n 's': array([2.45716731, 2.65649748, 2.870742  , 3.1004997 , 3.34630368,\n        3.60856059, 3.88749489, 4.18316604, 4.49543098, 4.82380748,\n        5.16747053, 5.52526241, 5.89557766, 6.27625622, 6.66458021,\n        7.05718963, 7.45001758, 7.83822246, 8.21613393, 8.57720144,\n        8.91394992, 9.21800632, 9.48011631, 9.69028361, 9.83799932,\n        9.91261146, 9.90392124, 9.80304751, 9.60349975, 9.30256374,\n        8.90283146, 8.41371443, 7.85259621, 7.24511504, 6.623932  ,\n        6.01980002, 5.47044134, 5.00803426, 4.63655385, 4.33879802,\n        4.09013636, 3.819788  , 3.47946246, 3.05230153, 2.58915699,\n        2.18273718, 1.90563997, 1.74899247, 1.61531051, 1.4023055 ,\n        1.15765532, 0.99527152, 0.91055073, 0.797156  , 0.66958497,\n        0.59865981, 0.52835265, 0.45877348, 0.4122754 , 0.3643154 ,\n        0.32904996, 0.29692846, 0.27120765, 0.24963637, 0.23165579,\n        0.21684545, 0.20466399, 0.19462089, 0.18637942, 0.17963558,\n        0.17412118, 0.16961705, 0.16593445, 0.16292504, 0.16046223,\n        0.15844126, 0.15677578, 0.15539471, 0.15423954, 0.15326216,\n        0.15242302, 0.15168955, 0.15101858, 0.14986833, 0.14870703,\n        0.14751462, 0.14627315, 0.14496633, 0.14357906, 0.14209708,\n        0.14005322, 0.13754835, 0.13485041, 0.13194461, 0.12864937,\n        0.12461019, 0.12028526, 0.11559775, 0.11024586, 0.10458602]),\n 'dm_g': array([6.58377295e+03, 7.12642976e+03, 7.70968945e+03, 8.33518225e+03,\n        9.00435945e+03, 9.71832815e+03, 1.04776994e+04, 1.12826351e+04,\n        1.21327458e+04, 1.30267186e+04, 1.39623075e+04, 1.49363608e+04,\n        1.59445077e+04, 1.69808677e+04, 1.80380416e+04, 1.91068822e+04,\n        2.01763178e+04, 2.12331675e+04, 2.22619944e+04, 2.32449652e+04,\n        2.41617299e+04, 2.49894936e+04, 2.57030623e+04, 2.62752222e+04,\n        2.66773637e+04, 2.68792463e+04, 2.68503278e+04, 2.65700551e+04,\n        2.60208915e+04, 2.51956176e+04, 2.41014863e+04, 2.27643234e+04,\n        2.12316341e+04, 1.95733319e+04, 1.78783406e+04, 1.62302939e+04,\n        1.47316004e+04, 1.34694294e+04, 1.24542964e+04, 1.16392788e+04,\n        1.09574081e+04, 1.02170472e+04, 9.28792371e+03, 8.12513800e+03,\n        6.86669593e+03, 5.76291535e+03, 5.00888850e+03, 4.57968484e+03,\n        4.21253177e+03, 3.63322518e+03, 2.97047571e+03, 2.52898652e+03,\n        2.29541523e+03, 1.98595696e+03, 1.63970320e+03, 1.44427226e+03,\n        1.25087684e+03, 1.05989454e+03, 9.28700309e+02, 7.93020727e+02,\n        6.90753462e+02, 5.96877178e+02, 5.19577707e+02, 4.52868404e+02,\n        3.95138450e+02, 3.45866902e+02, 3.04511080e+02, 2.68192592e+02,\n        2.35966412e+02, 2.07097542e+02, 1.83134759e+02, 1.61256922e+02,\n        1.40985498e+02, 1.23998170e+02, 1.08032763e+02, 9.39434407e+01,\n        8.11311066e+01, 6.98399666e+01, 5.94753937e+01, 5.06628087e+01,\n        4.27927149e+01, 3.58749881e+01, 2.98980385e+01, 2.47924442e+01,\n        2.04569221e+01, 1.67803596e+01, 1.36818651e+01, 1.10961792e+01,\n        8.92780137e+00, 7.15912449e+00, 5.73000833e+00, 4.55905838e+00,\n        3.58070047e+00, 2.78663174e+00, 2.16721146e+00, 1.69255921e+00,\n        1.30497144e+00, 9.84595927e-01, 7.41265511e-01, 5.62356952e-01]),\n 'g_s': array([8.25090987e+01, 8.94424983e+01, 9.68946714e+01, 1.04886447e+02,\n        1.13436368e+02, 1.22558580e+02, 1.32260889e+02, 1.42545365e+02,\n        1.53407031e+02, 1.64829113e+02, 1.76782915e+02, 1.89228167e+02,\n        2.02109025e+02, 2.15350355e+02, 2.28857621e+02, 2.42513948e+02,\n        2.56177877e+02, 2.69680999e+02, 2.82826080e+02, 2.95385270e+02,\n        3.07098559e+02, 3.17674703e+02, 3.26791804e+02, 3.34102157e+02,\n        3.39240226e+02, 3.41822127e+02, 3.41463214e+02, 3.37893639e+02,\n        3.30889138e+02, 3.20357211e+02, 3.06390225e+02, 2.89317840e+02,\n        2.69746751e+02, 2.48570060e+02, 2.26923951e+02, 2.05877168e+02,\n        1.86738670e+02, 1.70622949e+02, 1.57664905e+02, 1.47265215e+02,\n        1.38568149e+02, 1.29123537e+02, 1.17265031e+02, 1.02417411e+02,\n        8.63447366e+01, 7.22487303e+01, 6.26262815e+01, 5.71602078e+01,\n        5.24889630e+01, 4.51022964e+01, 3.66466272e+01, 3.10241647e+01,\n        2.80655026e+01, 2.41356945e+01, 1.97350052e+01, 1.72691315e+01,\n        1.48312212e+01, 1.24261237e+01, 1.07969381e+01, 9.11687482e+00,\n        7.86763846e+00, 6.72805259e+00, 5.80346397e+00, 5.01998920e+00,\n        4.35470713e+00, 3.79799575e+00, 3.33659784e+00, 2.94209714e+00,\n        2.60233935e+00, 2.30721447e+00, 2.06685520e+00, 1.85357293e+00,\n        1.66060267e+00, 1.50272278e+00, 1.35630949e+00, 1.22832015e+00,\n        1.11215802e+00, 1.00898530e+00, 9.12424367e-01, 8.28193451e-01,\n        7.49734728e-01, 6.77305312e-01, 6.10788877e-01, 5.48696592e-01,\n        4.91721326e-01, 4.39287640e-01, 3.90908460e-01, 3.46843017e-01,\n        3.06371972e-01, 2.69682983e-01, 2.35834613e-01, 2.04978109e-01,\n        1.77166384e-01, 1.52427969e-01, 1.30234094e-01, 1.10385010e-01,\n        9.29422717e-02, 7.76994076e-02, 6.43877080e-02, 5.29301052e-02]),\n 'dm_s': array([ 382.55560267,  413.75757511,  447.2941535 ,  483.25907393,\n         521.7357837 ,  562.78793887,  606.45067391,  652.73329796,\n         701.61341712,  753.01554428,  806.81053685,  862.81717612,\n         920.78414868,  980.37333134, 1041.15928727, 1102.6160574 ,\n        1164.10703551, 1224.87434624, 1284.03038631, 1340.54977165,\n        1393.26239971, 1440.85760092, 1481.88675768, 1514.78511135,\n        1537.90766118, 1549.57815565, 1548.180342  , 1532.3498858 ,\n        1501.07179607, 1453.92247616, 1391.30912406, 1314.70648793,\n        1226.83704213, 1131.71491908, 1034.45277273,  939.86385507,\n         853.85089524,  781.44772108,  723.27433526,  676.63737934,\n         637.68202204,  595.33650107,  542.05058546,  475.19280749,\n         402.72006241,  339.1291047 ,  295.76518398,  271.23371686,\n         250.29456024,  216.96773432,  178.70850656,  153.30807451,\n         140.0396989 ,  122.3004005 ,  102.35690084,   91.2569602 ,\n          80.25819722,   69.37852385,   62.0678985 ,   54.50782467,\n          48.93143909,   43.85123921,   39.76981441,   36.3353427 ,\n          33.45879901,   31.05307364,   29.00860043,   27.28919946,\n          25.83967428,   24.60739441,   23.48875192,   22.50499542,\n          21.6239153 ,   20.76189128,   19.94776147,   19.13746041,\n          18.31971925,   17.4840209 ,   16.61994615,   15.73381723,\n          14.82545975,   13.89953385,   12.96946677,   12.0289715 ,\n          11.11331843,   10.22819893,    9.37558016,    8.57025434,\n           7.81277604,    7.11529272,    6.45914631,    5.8340271 ,\n           5.22883532,    4.65996694,    4.1587193 ,    3.72359385,\n           3.3029559 ,    2.87744263,    2.49811906,    2.19313654]),\n 'pk_halo_total': array([2.31448192e+04, 2.50071460e+04, 2.70088166e+04, 2.91554256e+04,\n        3.14519538e+04, 3.39022005e+04, 3.65082627e+04, 3.92706962e+04,\n        4.21881642e+04, 4.52561613e+04, 4.84669793e+04, 5.18098022e+04,\n        5.52696299e+04, 5.88262811e+04, 6.24543631e+04, 6.61224835e+04,\n        6.97926457e+04, 7.34196148e+04, 7.69504134e+04, 8.03238401e+04,\n        8.34700560e+04, 8.63108322e+04, 8.87597062e+04, 9.07232835e+04,\n        9.21033804e+04, 9.27982541e+04, 9.27076535e+04, 9.17550752e+04,\n        8.98801323e+04, 8.70577649e+04, 8.33125416e+04, 7.87327587e+04,\n        7.34811501e+04, 6.77974638e+04, 6.19868610e+04, 5.63365059e+04,\n        5.11983222e+04, 4.68721739e+04, 4.33946519e+04, 4.06048744e+04,\n        3.82728745e+04, 3.57392447e+04, 3.25549480e+04, 2.85642614e+04,\n        2.42415142e+04, 2.04491646e+04, 1.78609274e+04, 1.63925172e+04,\n        1.51378353e+04, 1.31488459e+04, 1.08690528e+04, 9.35305208e+03,\n        8.55635959e+03, 7.49567249e+03, 6.30576737e+03, 5.63904634e+03,\n        4.97874644e+03, 4.32603198e+03, 3.87980720e+03, 3.41544261e+03,\n        3.06750404e+03, 2.74849778e+03, 2.48744014e+03, 2.26348707e+03,\n        2.07115788e+03, 1.90401898e+03, 1.75426279e+03, 1.62207107e+03,\n        1.50361996e+03, 1.39604907e+03, 1.29242806e+03, 1.19511482e+03,\n        1.10243131e+03, 1.01186168e+03, 9.23592951e+02, 8.38418535e+02,\n        7.55163962e+02, 6.76051354e+02, 5.99273769e+02, 5.28942459e+02,\n        4.63076544e+02, 4.02404929e+02, 3.47542614e+02, 2.98663542e+02,\n        2.55622352e+02, 2.17918206e+02, 1.84877621e+02, 1.56142714e+02,\n        1.31053163e+02, 1.09962815e+02, 9.24028729e+01, 7.74625392e+01,\n        6.41032729e+01, 5.25872814e+01, 4.34353962e+01, 3.62796229e+01,\n        2.99259007e+01, 2.41279877e+01, 1.94912298e+01, 1.60456529e+01])}"
     },
     "execution_count": 21,
     "metadata": {},
     "output_type": "execute_result"
    }
   ],
   "source": [
    "mydata = np.load(\"data/baryons_halomodel_pk_data.npy\", allow_pickle=True).item()\n",
    "mydata"
   ]
  },
  {
   "cell_type": "code",
   "outputs": [],
   "source": [],
   "metadata": {
    "collapsed": false
   },
   "id": "2a837d6a8a96ee72"
  }
 ],
 "metadata": {
  "colab": {
   "collapsed_sections": [],
   "provenance": []
  },
  "kernelspec": {
   "name": "python3",
   "language": "python",
   "display_name": "Python 3 (ipykernel)"
  },
  "language_info": {
   "codemirror_mode": {
    "name": "ipython",
    "version": 3
   },
   "file_extension": ".py",
   "mimetype": "text/x-python",
   "name": "python",
   "nbconvert_exporter": "python",
   "pygments_lexer": "ipython3",
   "version": "3.9.16"
  }
 },
 "nbformat": 4,
 "nbformat_minor": 5
}
