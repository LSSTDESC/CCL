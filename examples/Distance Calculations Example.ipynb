{
 "cells": [
  {
   "cell_type": "markdown",
   "metadata": {
    "deletable": true,
    "editable": true
   },
   "source": [
    "# Calculate cosmological distances with CCL\n",
    "In this example, we will calculate various cosmological distances for an example cosmology."
   ]
  },
  {
   "cell_type": "code",
   "execution_count": 2,
   "metadata": {
    "collapsed": true,
    "deletable": true,
    "editable": true
   },
   "outputs": [],
   "source": [
    "import numpy as np\n",
    "import pylab as plt\n",
    "import pyccl as ccl"
   ]
  },
  {
   "cell_type": "markdown",
   "metadata": {
    "deletable": true,
    "editable": true
   },
   "source": [
    "### Set up a Cosmology object\n",
    "`Cosmology` objects contain the parameters and metadata needed as inputs to most functions. In `pyccl`, you can create one by first creating a new `Parameters` object, which simply contains the values of cosmological parameters (including some derived parameters). In this example, we define the parameters of a vanilla LCDM model, but simple extensions (like curvature, neutrino mass, and w0/wa) are also supported.\n",
    "\n",
    "`Cosmology` objects contain precomputed data (e.g. splines) to help speed-up certain calculations. As such, `Cosmology` objects are supposed to be immutable; you should create a new `Cosmology` object when you want to change the values of any cosmological parameters."
   ]
  },
  {
   "cell_type": "code",
   "execution_count": 3,
   "metadata": {
    "collapsed": false,
    "deletable": true,
    "editable": true
   },
   "outputs": [],
   "source": [
    "p = ccl.Parameters(Omega_c=0.27, Omega_b=0.045, h=0.67, A_s=2.1e-9, n_s=0.96)\n",
    "cosmo = ccl.Cosmology(p)"
   ]
  },
  {
   "cell_type": "code",
   "execution_count": 4,
   "metadata": {
    "collapsed": false,
    "deletable": true,
    "editable": true
   },
   "outputs": [
    {
     "name": "stdout",
     "output_type": "stream",
     "text": [
      "Parameters\n",
      "----------\n",
      "        Omega_c: 0.27\n",
      "        Omega_b: 0.045\n",
      "        Omega_m: 0.315\n",
      "        Omega_n: 0.0\n",
      "        Omega_k: 0.0\n",
      "             w0: -1.0\n",
      "             wa: 0.0\n",
      "             H0: 67.0\n",
      "              h: 0.67\n",
      "            A_s: 2.1e-09\n",
      "            n_s: 0.96\n",
      "        Omega_g: 5.50353082768e-05\n",
      "          T_CMB: 2.725\n",
      "        sigma_8: nan\n",
      "        Omega_l: 0.684944964692\n",
      "         z_star: nan\n",
      "    has_mgrowth: False\n"
     ]
    }
   ],
   "source": [
    "print p"
   ]
  },
  {
   "cell_type": "markdown",
   "metadata": {
    "deletable": true,
    "editable": true
   },
   "source": [
    "As you can see, a number of cosmological parameters have been set to default values, or derived from the input parameters. Some, like `sigma_8`, have been left undefined; this is because calculating them from the input parameters is non-trivial, so this will only be done if needed (or if the user explicitly requests it)."
   ]
  },
  {
   "cell_type": "markdown",
   "metadata": {
    "deletable": true,
    "editable": true
   },
   "source": [
    "Parameter values can be accessed from the Parameters object like so:"
   ]
  },
  {
   "cell_type": "code",
   "execution_count": 5,
   "metadata": {
    "collapsed": false,
    "deletable": true,
    "editable": true
   },
   "outputs": [
    {
     "name": "stdout",
     "output_type": "stream",
     "text": [
      "0.27\n",
      "Parameters\n",
      "----------\n",
      "        Omega_c: 0.27\n",
      "        Omega_b: 0.045\n",
      "        Omega_m: 0.315\n",
      "        Omega_n: 0.0\n",
      "        Omega_k: 0.0\n",
      "             w0: -1.0\n",
      "             wa: 0.0\n",
      "             H0: 67.0\n",
      "              h: 0.67\n",
      "            A_s: 2.1e-09\n",
      "            n_s: 0.96\n",
      "        Omega_g: 5.50353082768e-05\n",
      "          T_CMB: 2.725\n",
      "        sigma_8: nan\n",
      "        Omega_l: 0.684944964692\n",
      "         z_star: nan\n",
      "    has_mgrowth: False\n",
      "\n",
      "Precomputed data\n",
      "----------------\n",
      "  has_distances: False\n",
      "     has_growth: False\n",
      "      has_power: False\n",
      "      has_sigma: False\n",
      "\n",
      "Status\n",
      "------\n",
      "status(0): \u0000\u0000\u0000\u0000\u0000\u0000\u0000\u0000\u0000\u0000\u0000\u0000\u0000\u0000\u0000\u0000\u0000\u0000\u0000\u0000��+�P:��Т���\u0000\u0000h�p��\u0000\u0000\u0011���S\u0006 � ڌ��\u0000\u0000��p��\u0000\u0000\u0000\u0000\u0000\u0000\u0000\u0000\u0000\u0000\u0000\u0000\u0000\u0000\u0000\u0000\u0000\u0000\u0000\u0000\u0000\u0000\u0000\u0000\u0000\u0000�Ʀ�q�ܸ���\u0000\u0000�6_��\u0000\u0000\u0000\u0000\u0000\u0000\u0000\u0000\u0000\u0000\u0000\u0000\u0000\u0000\u0000\u0000\u0000\u0000\u0000\u0000\u0000\u0000\u0000\u0000\u0000\u0000\u0000\u0000\u0000\u0000\u0000\u0000\u0000\u0000\u0000\u0000\u0000\u0000\u0000\u0000\u0000\u0000\u0000\u0000\u0000\u0000\u0000\u0000\u0000\u0000\u0000\u0000\u0000\u0000\u0000\u0000\u0000\u0000\u0000\u0000\u0000\u0000\u0000\u0000\u0000\u0000\u0000\u0000\u0000\u0000\u0000\u0000\u0000\u0000\u0000\u0000\u0000\u0000\u0000\u0000\u0000\u0000\u0000\u0000\u0000\u0000\u0000\u0000\u0000\u0000\u0000\u0000\u0000\u0000\u0000\u0000\u0000\u0000\u0000\u0000\u0000\u0000\u0000\u0000\u0000\u0000\u0000\u0000\u0000\u0000\u0000\u0000\u0000\u0000\u0000\u0000\u0000\u0000\u0000\u0000\u0000\u0000\u0000\u0000\u0000\u0000\u0000\u0000\u0000\u0000\u0000\u0000\u0000\u0000\u0000\u0000\u0000\u0000\u0000\u0000\u0000\u0000\u0000\u0000\u0000\u0000\u0000\u0000\u0000\u0000\u0000\u0000\u0000\u0000\u0000\u0000\u0000\u0000\u0000\u0000\u0000\u0000\u0000\u0000\u0000\u0000\u0000\u0000\u0000\u0000\u0000\u0000\u0000\u0000\u0000\u0000\u0000\u0000\u0000\u0000\u0000\u0000\u0000\u0000\u0000\u0000\u0000\u0000\u0000\u0000\u0000\u0000\u0000\u0000\u0000\u0000\u0000\u0000\u0000\u0000\u0000\u0000\u0000\u0000\u0000\u0000\u0000\u0000\u0000\u0000\u0000\u0000\u0000\u0000\u0000\u0000\u0000\u0000\u0000\u0000\u0000\u0000\u0000\u0000\u0000\u0000\u0000\u0000\u0000\u0000\u0000\u0000\u0000\u0000\u0000\u0000\u0000\u0000\u0000\u0000\u0000\u0000\u0000\u0000\u0000\u0000\u0000\u0000\u0000\u0000\u0000\u0000\u0000\u0000\u0000\u0000\u0000\u0000\u0000\u0000\u0000\u0000\u0000\u0000\u0000\u0000�@J ��\t��\u0007���\u0000\u0000P�x��\u0000\u0000Ȉ���\u0000\u0000!\u0006\u0000\u0000\u0000\u0000\u0000\u0000P/o\u0002\u0000\u0000\u0000\u0000(l[��\u0000\u0000P/o\u0002\u0000\u0000\u0000\u0000P/o\u0002\n"
     ]
    }
   ],
   "source": [
    "print p['Omega_c']\n",
    "print cosmo"
   ]
  },
  {
   "cell_type": "markdown",
   "metadata": {
    "collapsed": true,
    "deletable": true,
    "editable": true
   },
   "source": [
    "### Cosmological Distances\n",
    "\n",
    "With a cosmology in hand, we can begin performing some calculations. We can start with the most basic measure, the comoving radial distance. "
   ]
  },
  {
   "cell_type": "code",
   "execution_count": 7,
   "metadata": {
    "collapsed": false
   },
   "outputs": [
    {
     "name": "stdout",
     "output_type": "stream",
     "text": [
      "Dist = 1962.98 Mpc\n"
     ]
    }
   ],
   "source": [
    "z = 0.5 \n",
    "chi1 = ccl.background.comoving_radial_distance(cosmo, 1/(1+z))\n",
    "print 'Dist = %.2f Mpc'%chi1"
   ]
  },
  {
   "cell_type": "markdown",
   "metadata": {},
   "source": [
    "Note all distance calls require scale factors, not redshifts. This function takes a numpy arrays of values as well."
   ]
  },
  {
   "cell_type": "code",
   "execution_count": 13,
   "metadata": {
    "collapsed": false
   },
   "outputs": [
    {
     "name": "stdout",
     "output_type": "stream",
     "text": [
      "[    0.           436.70023664   851.40122037  1243.80429857  1614.1253994\n",
      "  1962.97919203  2291.26332932  2600.05607205  2890.53322322  3163.90520719]\n"
     ]
    }
   ],
   "source": [
    "zs = np.arange(0, 1, 0.1)\n",
    "chis = ccl.background.comoving_radial_distance(cosmo, 1/(1+zs))\n",
    "print chis"
   ]
  },
  {
   "cell_type": "markdown",
   "metadata": {},
   "source": [
    "CCL also supports calculation of the comoving angular distance. In flat spacetime (like the cosmology we have here) it is the same as  the radial distance. "
   ]
  },
  {
   "cell_type": "code",
   "execution_count": 14,
   "metadata": {
    "collapsed": false
   },
   "outputs": [
    {
     "name": "stdout",
     "output_type": "stream",
     "text": [
      "Dist = 1962.98 Mpc\n"
     ]
    }
   ],
   "source": [
    "chi2 = ccl.background.comoving_angular_distance(cosmo, 1/(1+z))\n",
    "print 'Dist = %.2f Mpc'%chi2"
   ]
  },
  {
   "cell_type": "markdown",
   "metadata": {},
   "source": [
    "If we create a cosmology with curvature, we'll get a different result. "
   ]
  },
  {
   "cell_type": "code",
   "execution_count": 15,
   "metadata": {
    "collapsed": false
   },
   "outputs": [
    {
     "name": "stdout",
     "output_type": "stream",
     "text": [
      "Raidal Dist = 1992.57 Mpc \t Angular Dist = 1999.16 Mpc\n"
     ]
    }
   ],
   "source": [
    "curved_params = ccl.Parameters(Omega_k = 0.1, Omega_c=0.17, Omega_b=0.045, h=0.67, A_s=2.1e-9, n_s=0.96)\n",
    "curved_cosmo = ccl.Cosmology(curved_params)\n",
    "\n",
    "chi_rad  = ccl.background.comoving_radial_distance(curved_cosmo, 1/(1+z))\n",
    "chi_curved = ccl.background.comoving_angular_distance(curved_cosmo, 1/(1+z))\n",
    "\n",
    "print 'Raidal Dist = %.2f Mpc \\t Angular Dist = %.2f Mpc'%(chi_rad,chi_curved)"
   ]
  },
  {
   "cell_type": "markdown",
   "metadata": {},
   "source": [
    "CCL explictly supports the calculation of the luminosity distance and the distance modulus, also. "
   ]
  },
  {
   "cell_type": "code",
   "execution_count": 16,
   "metadata": {
    "collapsed": false
   },
   "outputs": [
    {
     "name": "stdout",
     "output_type": "stream",
     "text": [
      "Luminosity Dist = 2944.47 Mpc \t Distance Modulus = 99.07 \n"
     ]
    }
   ],
   "source": [
    "chi_lum = ccl.background.luminosity_distance(cosmo, 1/(1+z))\n",
    "DM = ccl.background.distance_modulus(cosmo, 1/(1+z))\n",
    "\n",
    "print 'Luminosity Dist = %.2f Mpc \\t Distance Modulus = %.2f '%(chi_lum, DM)"
   ]
  },
  {
   "cell_type": "markdown",
   "metadata": {},
   "source": [
    "Finally, CCL supports a reverse operation. Given a comoving distance, CCL can calculate the corresponding scale factor."
   ]
  },
  {
   "cell_type": "code",
   "execution_count": null,
   "metadata": {
    "collapsed": true
   },
   "outputs": [],
   "source": [
    "a = CCL.background.chi"
   ]
  }
 ],
 "metadata": {
  "kernelspec": {
   "display_name": "Python 2",
   "language": "python",
   "name": "python2"
  },
  "language_info": {
   "codemirror_mode": {
    "name": "ipython",
    "version": 2
   },
   "file_extension": ".py",
   "mimetype": "text/x-python",
   "name": "python",
   "nbconvert_exporter": "python",
   "pygments_lexer": "ipython2",
   "version": "2.7.6"
  }
 },
 "nbformat": 4,
 "nbformat_minor": 2
}
